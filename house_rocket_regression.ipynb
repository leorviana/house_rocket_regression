{
 "cells": [
  {
   "cell_type": "markdown",
   "id": "d5fa7993",
   "metadata": {
    "id": "d5fa7993"
   },
   "source": [
    "# 0.0 Imports"
   ]
  },
  {
   "cell_type": "code",
   "execution_count": 93,
   "id": "04777b71",
   "metadata": {
    "ExecuteTime": {
     "end_time": "2022-03-02T21:45:23.772267Z",
     "start_time": "2022-03-02T21:45:23.763258Z"
    },
    "id": "04777b71"
   },
   "outputs": [],
   "source": [
    "import pandas as pd\n",
    "import numpy as np\n",
    "import matplotlib.pyplot as plt\n",
    "import seaborn as sns\n",
    "from scipy import stats\n",
    "from sklearn.preprocessing import MinMaxScaler, PolynomialFeatures\n",
    "from sklearn.model_selection import train_test_split, cross_val_score, RandomizedSearchCV\n",
    "from sklearn.linear_model import LinearRegression\n",
    "from sklearn.ensemble import RandomForestRegressor, GradientBoostingRegressor\n",
    "from sklearn.metrics import r2_score, mean_absolute_percentage_error, mean_squared_error\n",
    "\n",
    "import pickle\n",
    "\n",
    "import warnings\n",
    "warnings.filterwarnings(\"ignore\")"
   ]
  },
  {
   "cell_type": "markdown",
   "id": "3b10ec8c",
   "metadata": {
    "id": "3b10ec8c"
   },
   "source": [
    "# 0.1 Funções"
   ]
  },
  {
   "cell_type": "code",
   "execution_count": 94,
   "id": "d6b278eb",
   "metadata": {
    "ExecuteTime": {
     "end_time": "2022-03-02T21:45:24.941748Z",
     "start_time": "2022-03-02T21:45:24.928888Z"
    },
    "id": "d6b278eb"
   },
   "outputs": [],
   "source": [
    "def rmse(y_true, y_pred):\n",
    "    return np.sqrt(mean_squared_error(y_true, y_pred))"
   ]
  },
  {
   "cell_type": "code",
   "execution_count": 95,
   "id": "9e2c6ba0",
   "metadata": {
    "ExecuteTime": {
     "end_time": "2022-03-02T21:45:25.091218Z",
     "start_time": "2022-03-02T21:45:25.072466Z"
    },
    "id": "9e2c6ba0"
   },
   "outputs": [],
   "source": [
    "def metricas_cv(X_train, y_train, nome_modelo, modelo):\n",
    "    rmse_ = cross_val_score(modelo, X_train, y_train, cv=5, scoring=\"neg_root_mean_squared_error\")\n",
    "    r2 = cross_val_score(modelo, X_train, y_train, cv=5, scoring=\"r2\")\n",
    "    mape = cross_val_score(modelo, X_train, y_train, cv=5, scoring=\"neg_mean_absolute_percentage_error\")\n",
    "    \n",
    "    resultados = {\"Modelo\": nome_modelo, \"r2_score\": (np.mean(r2), np.std(r2)), \"Mape\": (np.mean(mape), np.std(mape)), \"Rmse\": (np.mean(rmse_), np.std(rmse_))}\n",
    "    \n",
    "    return resultados"
   ]
  },
  {
   "cell_type": "code",
   "execution_count": 96,
   "id": "e0bbb351",
   "metadata": {
    "ExecuteTime": {
     "end_time": "2022-03-02T21:45:25.223791Z",
     "start_time": "2022-03-02T21:45:25.215341Z"
    },
    "id": "e0bbb351"
   },
   "outputs": [],
   "source": [
    "def metricas(y_true, y_pred, nome_modelo):\n",
    "    rmse_ = rmse(y_true, y_pred)\n",
    "    r2 = r2_score(y_true, y_pred)\n",
    "    mape = mean_absolute_percentage_error(y_true, y_pred)\n",
    "    \n",
    "    resultados = {\"Modelo\": nome_modelo, \"r2_score\": r2, \"Mape\": mape, \"Rmse\": rmse_}\n",
    "    \n",
    "    return resultados"
   ]
  },
  {
   "cell_type": "markdown",
   "id": "ff62e9a5",
   "metadata": {
    "id": "ff62e9a5"
   },
   "source": [
    "# 1. Conhecendo os Dados"
   ]
  },
  {
   "cell_type": "markdown",
   "id": "193929b7",
   "metadata": {
    "id": "193929b7"
   },
   "source": [
    "## 1.1 Primeiras Linhas"
   ]
  },
  {
   "cell_type": "code",
   "execution_count": 97,
   "id": "18f19967",
   "metadata": {
    "ExecuteTime": {
     "end_time": "2022-03-02T21:45:25.776766Z",
     "start_time": "2022-03-02T21:45:25.640667Z"
    },
    "colab": {
     "base_uri": "https://localhost:8080/",
     "height": 270
    },
    "id": "18f19967",
    "outputId": "e75fb3c7-f92e-4da6-b9e4-1d68893c141a",
    "scrolled": true
   },
   "outputs": [
    {
     "data": {
      "text/html": [
       "<div>\n",
       "<style scoped>\n",
       "    .dataframe tbody tr th:only-of-type {\n",
       "        vertical-align: middle;\n",
       "    }\n",
       "\n",
       "    .dataframe tbody tr th {\n",
       "        vertical-align: top;\n",
       "    }\n",
       "\n",
       "    .dataframe thead th {\n",
       "        text-align: right;\n",
       "    }\n",
       "</style>\n",
       "<table border=\"1\" class=\"dataframe\">\n",
       "  <thead>\n",
       "    <tr style=\"text-align: right;\">\n",
       "      <th></th>\n",
       "      <th>id</th>\n",
       "      <th>date</th>\n",
       "      <th>price</th>\n",
       "      <th>bedrooms</th>\n",
       "      <th>bathrooms</th>\n",
       "      <th>sqft_living</th>\n",
       "      <th>sqft_lot</th>\n",
       "      <th>floors</th>\n",
       "      <th>waterfront</th>\n",
       "      <th>view</th>\n",
       "      <th>...</th>\n",
       "      <th>grade</th>\n",
       "      <th>sqft_above</th>\n",
       "      <th>sqft_basement</th>\n",
       "      <th>yr_built</th>\n",
       "      <th>yr_renovated</th>\n",
       "      <th>zipcode</th>\n",
       "      <th>lat</th>\n",
       "      <th>long</th>\n",
       "      <th>sqft_living15</th>\n",
       "      <th>sqft_lot15</th>\n",
       "    </tr>\n",
       "  </thead>\n",
       "  <tbody>\n",
       "    <tr>\n",
       "      <th>0</th>\n",
       "      <td>7129300520</td>\n",
       "      <td>20141013T000000</td>\n",
       "      <td>221900.0</td>\n",
       "      <td>3</td>\n",
       "      <td>1.00</td>\n",
       "      <td>1180</td>\n",
       "      <td>5650</td>\n",
       "      <td>1.0</td>\n",
       "      <td>0</td>\n",
       "      <td>0</td>\n",
       "      <td>...</td>\n",
       "      <td>7</td>\n",
       "      <td>1180</td>\n",
       "      <td>0</td>\n",
       "      <td>1955</td>\n",
       "      <td>0</td>\n",
       "      <td>98178</td>\n",
       "      <td>47.5112</td>\n",
       "      <td>-122.257</td>\n",
       "      <td>1340</td>\n",
       "      <td>5650</td>\n",
       "    </tr>\n",
       "    <tr>\n",
       "      <th>1</th>\n",
       "      <td>6414100192</td>\n",
       "      <td>20141209T000000</td>\n",
       "      <td>538000.0</td>\n",
       "      <td>3</td>\n",
       "      <td>2.25</td>\n",
       "      <td>2570</td>\n",
       "      <td>7242</td>\n",
       "      <td>2.0</td>\n",
       "      <td>0</td>\n",
       "      <td>0</td>\n",
       "      <td>...</td>\n",
       "      <td>7</td>\n",
       "      <td>2170</td>\n",
       "      <td>400</td>\n",
       "      <td>1951</td>\n",
       "      <td>1991</td>\n",
       "      <td>98125</td>\n",
       "      <td>47.7210</td>\n",
       "      <td>-122.319</td>\n",
       "      <td>1690</td>\n",
       "      <td>7639</td>\n",
       "    </tr>\n",
       "    <tr>\n",
       "      <th>2</th>\n",
       "      <td>5631500400</td>\n",
       "      <td>20150225T000000</td>\n",
       "      <td>180000.0</td>\n",
       "      <td>2</td>\n",
       "      <td>1.00</td>\n",
       "      <td>770</td>\n",
       "      <td>10000</td>\n",
       "      <td>1.0</td>\n",
       "      <td>0</td>\n",
       "      <td>0</td>\n",
       "      <td>...</td>\n",
       "      <td>6</td>\n",
       "      <td>770</td>\n",
       "      <td>0</td>\n",
       "      <td>1933</td>\n",
       "      <td>0</td>\n",
       "      <td>98028</td>\n",
       "      <td>47.7379</td>\n",
       "      <td>-122.233</td>\n",
       "      <td>2720</td>\n",
       "      <td>8062</td>\n",
       "    </tr>\n",
       "    <tr>\n",
       "      <th>3</th>\n",
       "      <td>2487200875</td>\n",
       "      <td>20141209T000000</td>\n",
       "      <td>604000.0</td>\n",
       "      <td>4</td>\n",
       "      <td>3.00</td>\n",
       "      <td>1960</td>\n",
       "      <td>5000</td>\n",
       "      <td>1.0</td>\n",
       "      <td>0</td>\n",
       "      <td>0</td>\n",
       "      <td>...</td>\n",
       "      <td>7</td>\n",
       "      <td>1050</td>\n",
       "      <td>910</td>\n",
       "      <td>1965</td>\n",
       "      <td>0</td>\n",
       "      <td>98136</td>\n",
       "      <td>47.5208</td>\n",
       "      <td>-122.393</td>\n",
       "      <td>1360</td>\n",
       "      <td>5000</td>\n",
       "    </tr>\n",
       "    <tr>\n",
       "      <th>4</th>\n",
       "      <td>1954400510</td>\n",
       "      <td>20150218T000000</td>\n",
       "      <td>510000.0</td>\n",
       "      <td>3</td>\n",
       "      <td>2.00</td>\n",
       "      <td>1680</td>\n",
       "      <td>8080</td>\n",
       "      <td>1.0</td>\n",
       "      <td>0</td>\n",
       "      <td>0</td>\n",
       "      <td>...</td>\n",
       "      <td>8</td>\n",
       "      <td>1680</td>\n",
       "      <td>0</td>\n",
       "      <td>1987</td>\n",
       "      <td>0</td>\n",
       "      <td>98074</td>\n",
       "      <td>47.6168</td>\n",
       "      <td>-122.045</td>\n",
       "      <td>1800</td>\n",
       "      <td>7503</td>\n",
       "    </tr>\n",
       "  </tbody>\n",
       "</table>\n",
       "<p>5 rows × 21 columns</p>\n",
       "</div>"
      ],
      "text/plain": [
       "           id             date     price  bedrooms  bathrooms  sqft_living  \\\n",
       "0  7129300520  20141013T000000  221900.0         3       1.00         1180   \n",
       "1  6414100192  20141209T000000  538000.0         3       2.25         2570   \n",
       "2  5631500400  20150225T000000  180000.0         2       1.00          770   \n",
       "3  2487200875  20141209T000000  604000.0         4       3.00         1960   \n",
       "4  1954400510  20150218T000000  510000.0         3       2.00         1680   \n",
       "\n",
       "   sqft_lot  floors  waterfront  view  ...  grade  sqft_above  sqft_basement  \\\n",
       "0      5650     1.0           0     0  ...      7        1180              0   \n",
       "1      7242     2.0           0     0  ...      7        2170            400   \n",
       "2     10000     1.0           0     0  ...      6         770              0   \n",
       "3      5000     1.0           0     0  ...      7        1050            910   \n",
       "4      8080     1.0           0     0  ...      8        1680              0   \n",
       "\n",
       "   yr_built  yr_renovated  zipcode      lat     long  sqft_living15  \\\n",
       "0      1955             0    98178  47.5112 -122.257           1340   \n",
       "1      1951          1991    98125  47.7210 -122.319           1690   \n",
       "2      1933             0    98028  47.7379 -122.233           2720   \n",
       "3      1965             0    98136  47.5208 -122.393           1360   \n",
       "4      1987             0    98074  47.6168 -122.045           1800   \n",
       "\n",
       "   sqft_lot15  \n",
       "0        5650  \n",
       "1        7639  \n",
       "2        8062  \n",
       "3        5000  \n",
       "4        7503  \n",
       "\n",
       "[5 rows x 21 columns]"
      ]
     },
     "execution_count": 97,
     "metadata": {},
     "output_type": "execute_result"
    }
   ],
   "source": [
    "df_raw = pd.read_csv(\"kc_house_data.csv\")\n",
    "df_raw.head()"
   ]
  },
  {
   "cell_type": "markdown",
   "id": "0bf77fd6",
   "metadata": {
    "id": "0bf77fd6"
   },
   "source": [
    "## 1.2 Dimensões"
   ]
  },
  {
   "cell_type": "code",
   "execution_count": 98,
   "id": "b9e1c0f9",
   "metadata": {
    "ExecuteTime": {
     "end_time": "2022-03-02T21:45:25.948465Z",
     "start_time": "2022-03-02T21:45:25.933758Z"
    },
    "colab": {
     "base_uri": "https://localhost:8080/"
    },
    "id": "b9e1c0f9",
    "outputId": "bee3ca06-1017-4a20-a451-f4004b92ac45"
   },
   "outputs": [
    {
     "name": "stdout",
     "output_type": "stream",
     "text": [
      "Numero de linhas: 21613\n",
      "Numero de colunas: 21\n"
     ]
    }
   ],
   "source": [
    "print(\"Numero de linhas:\",df_raw.shape[0])\n",
    "print(\"Numero de colunas:\",df_raw.shape[1])"
   ]
  },
  {
   "cell_type": "markdown",
   "id": "36d3a50b",
   "metadata": {
    "id": "36d3a50b"
   },
   "source": [
    "## 1.3 Integridade dos Dados"
   ]
  },
  {
   "cell_type": "code",
   "execution_count": 99,
   "id": "d3404cad",
   "metadata": {
    "ExecuteTime": {
     "end_time": "2022-03-02T21:45:26.254841Z",
     "start_time": "2022-03-02T21:45:26.223825Z"
    },
    "colab": {
     "base_uri": "https://localhost:8080/"
    },
    "id": "d3404cad",
    "outputId": "3258d2d8-7f0a-4c09-a152-1188fede5801"
   },
   "outputs": [
    {
     "name": "stdout",
     "output_type": "stream",
     "text": [
      "<class 'pandas.core.frame.DataFrame'>\n",
      "RangeIndex: 21613 entries, 0 to 21612\n",
      "Data columns (total 21 columns):\n",
      " #   Column         Non-Null Count  Dtype  \n",
      "---  ------         --------------  -----  \n",
      " 0   id             21613 non-null  int64  \n",
      " 1   date           21613 non-null  object \n",
      " 2   price          21613 non-null  float64\n",
      " 3   bedrooms       21613 non-null  int64  \n",
      " 4   bathrooms      21613 non-null  float64\n",
      " 5   sqft_living    21613 non-null  int64  \n",
      " 6   sqft_lot       21613 non-null  int64  \n",
      " 7   floors         21613 non-null  float64\n",
      " 8   waterfront     21613 non-null  int64  \n",
      " 9   view           21613 non-null  int64  \n",
      " 10  condition      21613 non-null  int64  \n",
      " 11  grade          21613 non-null  int64  \n",
      " 12  sqft_above     21613 non-null  int64  \n",
      " 13  sqft_basement  21613 non-null  int64  \n",
      " 14  yr_built       21613 non-null  int64  \n",
      " 15  yr_renovated   21613 non-null  int64  \n",
      " 16  zipcode        21613 non-null  int64  \n",
      " 17  lat            21613 non-null  float64\n",
      " 18  long           21613 non-null  float64\n",
      " 19  sqft_living15  21613 non-null  int64  \n",
      " 20  sqft_lot15     21613 non-null  int64  \n",
      "dtypes: float64(5), int64(15), object(1)\n",
      "memory usage: 3.5+ MB\n"
     ]
    }
   ],
   "source": [
    "df_raw.info()"
   ]
  },
  {
   "cell_type": "markdown",
   "id": "d7a9600c",
   "metadata": {
    "id": "d7a9600c"
   },
   "source": [
    "## 1.5 Estatísticas Descritivas"
   ]
  },
  {
   "cell_type": "code",
   "execution_count": 100,
   "id": "b915be96",
   "metadata": {
    "ExecuteTime": {
     "end_time": "2022-03-02T21:45:26.667821Z",
     "start_time": "2022-03-02T21:45:26.515142Z"
    },
    "colab": {
     "base_uri": "https://localhost:8080/",
     "height": 364
    },
    "id": "b915be96",
    "outputId": "8046dc96-9303-45da-be58-83c4c9f06207",
    "scrolled": true
   },
   "outputs": [
    {
     "data": {
      "text/html": [
       "<div>\n",
       "<style scoped>\n",
       "    .dataframe tbody tr th:only-of-type {\n",
       "        vertical-align: middle;\n",
       "    }\n",
       "\n",
       "    .dataframe tbody tr th {\n",
       "        vertical-align: top;\n",
       "    }\n",
       "\n",
       "    .dataframe thead th {\n",
       "        text-align: right;\n",
       "    }\n",
       "</style>\n",
       "<table border=\"1\" class=\"dataframe\">\n",
       "  <thead>\n",
       "    <tr style=\"text-align: right;\">\n",
       "      <th></th>\n",
       "      <th>id</th>\n",
       "      <th>price</th>\n",
       "      <th>bedrooms</th>\n",
       "      <th>bathrooms</th>\n",
       "      <th>sqft_living</th>\n",
       "      <th>sqft_lot</th>\n",
       "      <th>floors</th>\n",
       "      <th>waterfront</th>\n",
       "      <th>view</th>\n",
       "      <th>condition</th>\n",
       "      <th>grade</th>\n",
       "      <th>sqft_above</th>\n",
       "      <th>sqft_basement</th>\n",
       "      <th>yr_built</th>\n",
       "      <th>yr_renovated</th>\n",
       "      <th>zipcode</th>\n",
       "      <th>lat</th>\n",
       "      <th>long</th>\n",
       "      <th>sqft_living15</th>\n",
       "      <th>sqft_lot15</th>\n",
       "    </tr>\n",
       "  </thead>\n",
       "  <tbody>\n",
       "    <tr>\n",
       "      <th>count</th>\n",
       "      <td>2.161300e+04</td>\n",
       "      <td>21613.0</td>\n",
       "      <td>21613.0</td>\n",
       "      <td>21613.0</td>\n",
       "      <td>21613.0</td>\n",
       "      <td>21613.0</td>\n",
       "      <td>21613.0</td>\n",
       "      <td>21613.0</td>\n",
       "      <td>21613.0</td>\n",
       "      <td>21613.0</td>\n",
       "      <td>21613.0</td>\n",
       "      <td>21613.0</td>\n",
       "      <td>21613.0</td>\n",
       "      <td>21613.0</td>\n",
       "      <td>21613.0</td>\n",
       "      <td>21613.0</td>\n",
       "      <td>21613.0</td>\n",
       "      <td>21613.0</td>\n",
       "      <td>21613.0</td>\n",
       "      <td>21613.0</td>\n",
       "    </tr>\n",
       "    <tr>\n",
       "      <th>mean</th>\n",
       "      <td>4.580302e+09</td>\n",
       "      <td>540088.1</td>\n",
       "      <td>3.4</td>\n",
       "      <td>2.1</td>\n",
       "      <td>2079.9</td>\n",
       "      <td>15107.0</td>\n",
       "      <td>1.5</td>\n",
       "      <td>0.0</td>\n",
       "      <td>0.2</td>\n",
       "      <td>3.4</td>\n",
       "      <td>7.7</td>\n",
       "      <td>1788.4</td>\n",
       "      <td>291.5</td>\n",
       "      <td>1971.0</td>\n",
       "      <td>84.4</td>\n",
       "      <td>98077.9</td>\n",
       "      <td>47.6</td>\n",
       "      <td>-122.2</td>\n",
       "      <td>1986.6</td>\n",
       "      <td>12768.5</td>\n",
       "    </tr>\n",
       "    <tr>\n",
       "      <th>std</th>\n",
       "      <td>2.876566e+09</td>\n",
       "      <td>367127.2</td>\n",
       "      <td>0.9</td>\n",
       "      <td>0.8</td>\n",
       "      <td>918.4</td>\n",
       "      <td>41420.5</td>\n",
       "      <td>0.5</td>\n",
       "      <td>0.1</td>\n",
       "      <td>0.8</td>\n",
       "      <td>0.7</td>\n",
       "      <td>1.2</td>\n",
       "      <td>828.1</td>\n",
       "      <td>442.6</td>\n",
       "      <td>29.4</td>\n",
       "      <td>401.7</td>\n",
       "      <td>53.5</td>\n",
       "      <td>0.1</td>\n",
       "      <td>0.1</td>\n",
       "      <td>685.4</td>\n",
       "      <td>27304.2</td>\n",
       "    </tr>\n",
       "    <tr>\n",
       "      <th>min</th>\n",
       "      <td>1.000102e+06</td>\n",
       "      <td>75000.0</td>\n",
       "      <td>0.0</td>\n",
       "      <td>0.0</td>\n",
       "      <td>290.0</td>\n",
       "      <td>520.0</td>\n",
       "      <td>1.0</td>\n",
       "      <td>0.0</td>\n",
       "      <td>0.0</td>\n",
       "      <td>1.0</td>\n",
       "      <td>1.0</td>\n",
       "      <td>290.0</td>\n",
       "      <td>0.0</td>\n",
       "      <td>1900.0</td>\n",
       "      <td>0.0</td>\n",
       "      <td>98001.0</td>\n",
       "      <td>47.2</td>\n",
       "      <td>-122.5</td>\n",
       "      <td>399.0</td>\n",
       "      <td>651.0</td>\n",
       "    </tr>\n",
       "    <tr>\n",
       "      <th>25%</th>\n",
       "      <td>2.123049e+09</td>\n",
       "      <td>321950.0</td>\n",
       "      <td>3.0</td>\n",
       "      <td>1.8</td>\n",
       "      <td>1427.0</td>\n",
       "      <td>5040.0</td>\n",
       "      <td>1.0</td>\n",
       "      <td>0.0</td>\n",
       "      <td>0.0</td>\n",
       "      <td>3.0</td>\n",
       "      <td>7.0</td>\n",
       "      <td>1190.0</td>\n",
       "      <td>0.0</td>\n",
       "      <td>1951.0</td>\n",
       "      <td>0.0</td>\n",
       "      <td>98033.0</td>\n",
       "      <td>47.5</td>\n",
       "      <td>-122.3</td>\n",
       "      <td>1490.0</td>\n",
       "      <td>5100.0</td>\n",
       "    </tr>\n",
       "    <tr>\n",
       "      <th>50%</th>\n",
       "      <td>3.904930e+09</td>\n",
       "      <td>450000.0</td>\n",
       "      <td>3.0</td>\n",
       "      <td>2.2</td>\n",
       "      <td>1910.0</td>\n",
       "      <td>7618.0</td>\n",
       "      <td>1.5</td>\n",
       "      <td>0.0</td>\n",
       "      <td>0.0</td>\n",
       "      <td>3.0</td>\n",
       "      <td>7.0</td>\n",
       "      <td>1560.0</td>\n",
       "      <td>0.0</td>\n",
       "      <td>1975.0</td>\n",
       "      <td>0.0</td>\n",
       "      <td>98065.0</td>\n",
       "      <td>47.6</td>\n",
       "      <td>-122.2</td>\n",
       "      <td>1840.0</td>\n",
       "      <td>7620.0</td>\n",
       "    </tr>\n",
       "    <tr>\n",
       "      <th>75%</th>\n",
       "      <td>7.308900e+09</td>\n",
       "      <td>645000.0</td>\n",
       "      <td>4.0</td>\n",
       "      <td>2.5</td>\n",
       "      <td>2550.0</td>\n",
       "      <td>10688.0</td>\n",
       "      <td>2.0</td>\n",
       "      <td>0.0</td>\n",
       "      <td>0.0</td>\n",
       "      <td>4.0</td>\n",
       "      <td>8.0</td>\n",
       "      <td>2210.0</td>\n",
       "      <td>560.0</td>\n",
       "      <td>1997.0</td>\n",
       "      <td>0.0</td>\n",
       "      <td>98118.0</td>\n",
       "      <td>47.7</td>\n",
       "      <td>-122.1</td>\n",
       "      <td>2360.0</td>\n",
       "      <td>10083.0</td>\n",
       "    </tr>\n",
       "    <tr>\n",
       "      <th>max</th>\n",
       "      <td>9.900000e+09</td>\n",
       "      <td>7700000.0</td>\n",
       "      <td>33.0</td>\n",
       "      <td>8.0</td>\n",
       "      <td>13540.0</td>\n",
       "      <td>1651359.0</td>\n",
       "      <td>3.5</td>\n",
       "      <td>1.0</td>\n",
       "      <td>4.0</td>\n",
       "      <td>5.0</td>\n",
       "      <td>13.0</td>\n",
       "      <td>9410.0</td>\n",
       "      <td>4820.0</td>\n",
       "      <td>2015.0</td>\n",
       "      <td>2015.0</td>\n",
       "      <td>98199.0</td>\n",
       "      <td>47.8</td>\n",
       "      <td>-121.3</td>\n",
       "      <td>6210.0</td>\n",
       "      <td>871200.0</td>\n",
       "    </tr>\n",
       "  </tbody>\n",
       "</table>\n",
       "</div>"
      ],
      "text/plain": [
       "                 id      price  bedrooms  bathrooms  sqft_living   sqft_lot  \\\n",
       "count  2.161300e+04    21613.0   21613.0    21613.0      21613.0    21613.0   \n",
       "mean   4.580302e+09   540088.1       3.4        2.1       2079.9    15107.0   \n",
       "std    2.876566e+09   367127.2       0.9        0.8        918.4    41420.5   \n",
       "min    1.000102e+06    75000.0       0.0        0.0        290.0      520.0   \n",
       "25%    2.123049e+09   321950.0       3.0        1.8       1427.0     5040.0   \n",
       "50%    3.904930e+09   450000.0       3.0        2.2       1910.0     7618.0   \n",
       "75%    7.308900e+09   645000.0       4.0        2.5       2550.0    10688.0   \n",
       "max    9.900000e+09  7700000.0      33.0        8.0      13540.0  1651359.0   \n",
       "\n",
       "        floors  waterfront     view  condition    grade  sqft_above  \\\n",
       "count  21613.0     21613.0  21613.0    21613.0  21613.0     21613.0   \n",
       "mean       1.5         0.0      0.2        3.4      7.7      1788.4   \n",
       "std        0.5         0.1      0.8        0.7      1.2       828.1   \n",
       "min        1.0         0.0      0.0        1.0      1.0       290.0   \n",
       "25%        1.0         0.0      0.0        3.0      7.0      1190.0   \n",
       "50%        1.5         0.0      0.0        3.0      7.0      1560.0   \n",
       "75%        2.0         0.0      0.0        4.0      8.0      2210.0   \n",
       "max        3.5         1.0      4.0        5.0     13.0      9410.0   \n",
       "\n",
       "       sqft_basement  yr_built  yr_renovated  zipcode      lat     long  \\\n",
       "count        21613.0   21613.0       21613.0  21613.0  21613.0  21613.0   \n",
       "mean           291.5    1971.0          84.4  98077.9     47.6   -122.2   \n",
       "std            442.6      29.4         401.7     53.5      0.1      0.1   \n",
       "min              0.0    1900.0           0.0  98001.0     47.2   -122.5   \n",
       "25%              0.0    1951.0           0.0  98033.0     47.5   -122.3   \n",
       "50%              0.0    1975.0           0.0  98065.0     47.6   -122.2   \n",
       "75%            560.0    1997.0           0.0  98118.0     47.7   -122.1   \n",
       "max           4820.0    2015.0        2015.0  98199.0     47.8   -121.3   \n",
       "\n",
       "       sqft_living15  sqft_lot15  \n",
       "count        21613.0     21613.0  \n",
       "mean          1986.6     12768.5  \n",
       "std            685.4     27304.2  \n",
       "min            399.0       651.0  \n",
       "25%           1490.0      5100.0  \n",
       "50%           1840.0      7620.0  \n",
       "75%           2360.0     10083.0  \n",
       "max           6210.0    871200.0  "
      ]
     },
     "execution_count": 100,
     "metadata": {},
     "output_type": "execute_result"
    }
   ],
   "source": [
    "df_raw.describe().round(1)"
   ]
  },
  {
   "cell_type": "markdown",
   "id": "b5a03c3e",
   "metadata": {
    "id": "b5a03c3e"
   },
   "source": [
    "## 1.6 Engenharia de Variáveis"
   ]
  },
  {
   "cell_type": "code",
   "execution_count": 101,
   "id": "2de43438",
   "metadata": {
    "ExecuteTime": {
     "end_time": "2022-03-02T21:45:27.525155Z",
     "start_time": "2022-03-02T21:45:27.505347Z"
    },
    "id": "2de43438"
   },
   "outputs": [],
   "source": [
    "# Criando uma copia para trabalharmos em cima\n",
    "\n",
    "df = df_raw.copy()"
   ]
  },
  {
   "cell_type": "code",
   "execution_count": 102,
   "id": "3b2afdf6",
   "metadata": {
    "ExecuteTime": {
     "end_time": "2022-03-02T21:45:27.694465Z",
     "start_time": "2022-03-02T21:45:27.681401Z"
    },
    "id": "3b2afdf6"
   },
   "outputs": [],
   "source": [
    "df[\"nivel_bairro\"] = pd.qcut(df[\"sqft_living15\"].values, q = 4, labels=[1, 2, 3, 4])\n",
    "df.nivel_bairro = df.nivel_bairro.astype(int)"
   ]
  },
  {
   "cell_type": "code",
   "execution_count": 103,
   "id": "a84b9d6a",
   "metadata": {
    "ExecuteTime": {
     "end_time": "2022-03-02T21:45:27.875906Z",
     "start_time": "2022-03-02T21:45:27.857294Z"
    },
    "id": "a84b9d6a"
   },
   "outputs": [],
   "source": [
    "df[\"idade_casa\"] = 2014 - df.yr_built"
   ]
  },
  {
   "cell_type": "code",
   "execution_count": 104,
   "id": "701712d2",
   "metadata": {
    "ExecuteTime": {
     "end_time": "2022-03-02T21:45:28.036554Z",
     "start_time": "2022-03-02T21:45:28.000995Z"
    },
    "id": "701712d2"
   },
   "outputs": [],
   "source": [
    "df[\"ja_reformado\"] = [0 if i == 0 else 1 for i in df.yr_renovated.values.tolist()]"
   ]
  },
  {
   "cell_type": "markdown",
   "id": "d8cb0fe5",
   "metadata": {
    "id": "d8cb0fe5"
   },
   "source": [
    "## 1.7 Limpeza"
   ]
  },
  {
   "cell_type": "code",
   "execution_count": 105,
   "id": "7066663d",
   "metadata": {
    "ExecuteTime": {
     "end_time": "2022-03-02T21:45:28.655356Z",
     "start_time": "2022-03-02T21:45:28.633810Z"
    },
    "id": "7066663d"
   },
   "outputs": [],
   "source": [
    "# Removendo as colunas que não irei usar\n",
    "\n",
    "df.drop([\"sqft_above\", \"sqft_basement\", \"zipcode\", \"sqft_lot15\", \"date\", \"yr_built\", \"yr_renovated\", \"sqft_living15\"], axis=1, inplace=True)"
   ]
  },
  {
   "cell_type": "markdown",
   "id": "1df5139e",
   "metadata": {
    "id": "1df5139e"
   },
   "source": [
    "### Análise e Remoção de Outliers"
   ]
  },
  {
   "cell_type": "markdown",
   "id": "2e18e23c",
   "metadata": {
    "id": "2e18e23c"
   },
   "source": [
    "Nós já haviamos identificado os outliers no primeiro ciclo do projeto, vamos então utilizar as mesmas técnicas."
   ]
  },
  {
   "cell_type": "code",
   "execution_count": 106,
   "id": "3243b143",
   "metadata": {
    "ExecuteTime": {
     "end_time": "2022-03-02T21:45:29.643888Z",
     "start_time": "2022-03-02T21:45:29.638977Z"
    }
   },
   "outputs": [],
   "source": [
    "# Criando copia de segurança\n",
    "\n",
    "dff = df.copy()"
   ]
  },
  {
   "cell_type": "code",
   "execution_count": 107,
   "id": "3c260c2d",
   "metadata": {
    "ExecuteTime": {
     "end_time": "2022-03-02T21:45:30.037444Z",
     "start_time": "2022-03-02T21:45:29.981738Z"
    },
    "id": "3c260c2d"
   },
   "outputs": [],
   "source": [
    "# Removendo outliers\n",
    "\n",
    "df.drop(df[df.price > 1000000].index, axis=0, inplace=True)\n",
    "df.drop(df[(df.bedrooms > 5)].index, axis=0, inplace=True)\n",
    "df.drop(df[df.bathrooms > 4].index, axis=0, inplace=True)\n",
    "df.drop(df[df.sqft_living > 4500].index, axis=0, inplace=True)\n",
    "df.drop(df[df.sqft_lot > 20000].index, axis=0, inplace=True)\n",
    "df.drop(df[df.condition == 1].index, axis=0, inplace=True)\n",
    "df.drop(df[(df.grade > 10) | (df.grade < 6)].index, axis=0, inplace=True)"
   ]
  },
  {
   "cell_type": "markdown",
   "id": "291e88c0",
   "metadata": {
    "id": "291e88c0"
   },
   "source": [
    "### Variável Alvo"
   ]
  },
  {
   "cell_type": "code",
   "execution_count": 108,
   "id": "6696cdc3",
   "metadata": {
    "ExecuteTime": {
     "end_time": "2022-03-02T21:45:31.538964Z",
     "start_time": "2022-03-02T21:45:31.070347Z"
    },
    "colab": {
     "base_uri": "https://localhost:8080/",
     "height": 352
    },
    "id": "6696cdc3",
    "outputId": "ab086c08-e09d-4b3d-c888-519308469c1c",
    "scrolled": false
   },
   "outputs": [
    {
     "data": {
      "image/png": "[encoded data removed]",
      "text/plain": [
       "<Figure size 720x360 with 1 Axes>"
      ]
     },
     "metadata": {
      "needs_background": "light"
     },
     "output_type": "display_data"
    }
   ],
   "source": [
    "plt.figure(figsize=[10, 5])\n",
    "sns.histplot(df.price, kde=True)\n",
    "plt.ticklabel_format(style='plain', axis='x')\n",
    "plt.title(\"Distribuição do Preço\", fontsize=16);"
   ]
  },
  {
   "cell_type": "code",
   "execution_count": 53,
   "id": "468f471e",
   "metadata": {
    "ExecuteTime": {
     "end_time": "2022-03-02T21:38:21.740726Z",
     "start_time": "2022-03-02T21:38:21.724087Z"
    },
    "colab": {
     "base_uri": "https://localhost:8080/"
    },
    "id": "468f471e",
    "outputId": "7ede34ef-1ad3-48d4-bb61-24c14a455b75"
   },
   "outputs": [
    {
     "name": "stdout",
     "output_type": "stream",
     "text": [
      "Skew: 0.683136087493346\n"
     ]
    }
   ],
   "source": [
    "print(\"Skew:\", stats.skew(df.price.values))"
   ]
  },
  {
   "cell_type": "markdown",
   "id": "5767698e",
   "metadata": {
    "id": "5767698e"
   },
   "source": [
    "# 3. Modelagem"
   ]
  },
  {
   "cell_type": "markdown",
   "id": "e4d2b9d6",
   "metadata": {
    "id": "e4d2b9d6"
   },
   "source": [
    "## 3.1 Pré-Processamento"
   ]
  },
  {
   "cell_type": "markdown",
   "id": "76e3d498",
   "metadata": {
    "id": "76e3d498"
   },
   "source": [
    "### Seleção de Váriáveis"
   ]
  },
  {
   "cell_type": "markdown",
   "id": "6c9135da",
   "metadata": {
    "id": "6c9135da"
   },
   "source": [
    "Para confirmar e quantificar a força da relação entre as variáveis, vamos plotar o gráfico de correlação:"
   ]
  },
  {
   "cell_type": "code",
   "execution_count": 54,
   "id": "8e84b60a",
   "metadata": {
    "ExecuteTime": {
     "end_time": "2022-03-02T21:38:25.676518Z",
     "start_time": "2022-03-02T21:38:23.627115Z"
    },
    "id": "8e84b60a",
    "outputId": "e80e1b9a-b4f9-47b5-be02-f3d249d61ac6"
   },
   "outputs": [
    {
     "data": {
      "image/png": "[encoded data removed]",
      "text/plain": [
       "<Figure size 1080x504 with 2 Axes>"
      ]
     },
     "metadata": {
      "needs_background": "light"
     },
     "output_type": "display_data"
    }
   ],
   "source": [
    "plt.figure(figsize=[15, 7])\n",
    "sns.heatmap(df.corr(), annot=True)\n",
    "plt.title(\"Correlações\", fontsize=16)\n",
    "plt.show()"
   ]
  },
  {
   "cell_type": "code",
   "execution_count": 109,
   "id": "d57f928e",
   "metadata": {
    "ExecuteTime": {
     "end_time": "2022-03-02T21:45:34.960108Z",
     "start_time": "2022-03-02T21:45:34.941415Z"
    },
    "id": "d57f928e"
   },
   "outputs": [],
   "source": [
    "df1 = df.copy()"
   ]
  },
  {
   "cell_type": "code",
   "execution_count": 110,
   "id": "f3d214c6",
   "metadata": {
    "ExecuteTime": {
     "end_time": "2022-03-02T21:45:35.115182Z",
     "start_time": "2022-03-02T21:45:35.097042Z"
    },
    "id": "f3d214c6"
   },
   "outputs": [],
   "source": [
    "df1.drop([\"sqft_lot\", \"waterfront\", \"condition\", \"long\", \"idade_casa\", \"ja_reformado\"], axis=1, inplace=True)"
   ]
  },
  {
   "cell_type": "code",
   "execution_count": 111,
   "id": "1d044cf8",
   "metadata": {
    "ExecuteTime": {
     "end_time": "2022-03-02T21:45:35.265396Z",
     "start_time": "2022-03-02T21:45:35.247981Z"
    },
    "id": "1d044cf8"
   },
   "outputs": [],
   "source": [
    "X = df1.drop([\"price\", \"id\"], axis=1).values\n",
    "y = df1.price.values.reshape(-1, 1)"
   ]
  },
  {
   "cell_type": "markdown",
   "id": "be8dc3b7",
   "metadata": {
    "id": "be8dc3b7"
   },
   "source": [
    "### Transformando as distribuições"
   ]
  },
  {
   "cell_type": "code",
   "execution_count": 58,
   "id": "a9c63dd1",
   "metadata": {
    "ExecuteTime": {
     "end_time": "2022-03-02T21:38:25.961266Z",
     "start_time": "2022-03-02T21:38:25.882626Z"
    },
    "id": "a9c63dd1"
   },
   "outputs": [],
   "source": [
    "#df1[\"sqft_living\"] = np.log(df1[\"sqft_living\"].values)\n",
    "#df1[\"price\"] = np.log(df1[\"price\"].values)"
   ]
  },
  {
   "cell_type": "markdown",
   "id": "e8428f61",
   "metadata": {
    "id": "e8428f61"
   },
   "source": [
    "### Colocando as variáveis em uma mesma escala"
   ]
  },
  {
   "cell_type": "code",
   "execution_count": 112,
   "id": "d7aef519",
   "metadata": {
    "ExecuteTime": {
     "end_time": "2022-03-02T21:45:37.662596Z",
     "start_time": "2022-03-02T21:45:37.644788Z"
    },
    "id": "d7aef519"
   },
   "outputs": [],
   "source": [
    "mm_scaler = MinMaxScaler()\n",
    "\n",
    "X = mm_scaler.fit_transform(X)"
   ]
  },
  {
   "cell_type": "markdown",
   "id": "3e8b3afa",
   "metadata": {
    "id": "3e8b3afa"
   },
   "source": [
    "### Separando treino e teste"
   ]
  },
  {
   "cell_type": "code",
   "execution_count": 113,
   "id": "23a9f393",
   "metadata": {
    "ExecuteTime": {
     "end_time": "2022-03-02T21:45:40.147107Z",
     "start_time": "2022-03-02T21:45:40.129339Z"
    },
    "id": "23a9f393"
   },
   "outputs": [],
   "source": [
    "Xtrain, Xtest, ytrain, ytest = train_test_split(X, y, test_size = 0.2, random_state=42)"
   ]
  },
  {
   "cell_type": "markdown",
   "id": "bf1fa898",
   "metadata": {
    "id": "bf1fa898"
   },
   "source": [
    "## 3.2 Treinamento"
   ]
  },
  {
   "cell_type": "markdown",
   "id": "edd495ea",
   "metadata": {
    "id": "edd495ea"
   },
   "source": [
    "### Regressão linear"
   ]
  },
  {
   "cell_type": "code",
   "execution_count": 61,
   "id": "728e0e26",
   "metadata": {
    "ExecuteTime": {
     "end_time": "2022-03-02T21:38:31.097785Z",
     "start_time": "2022-03-02T21:38:31.085546Z"
    },
    "id": "728e0e26"
   },
   "outputs": [],
   "source": [
    "lm = LinearRegression()"
   ]
  },
  {
   "cell_type": "code",
   "execution_count": 62,
   "id": "64a698fe",
   "metadata": {
    "ExecuteTime": {
     "end_time": "2022-03-02T21:38:33.510794Z",
     "start_time": "2022-03-02T21:38:31.610144Z"
    },
    "id": "64a698fe",
    "outputId": "05b52e85-49ba-4095-a3cb-0048f62047cd"
   },
   "outputs": [
    {
     "data": {
      "text/plain": [
       "LinearRegression()"
      ]
     },
     "execution_count": 62,
     "metadata": {},
     "output_type": "execute_result"
    }
   ],
   "source": [
    "lm.fit(Xtrain, ytrain)"
   ]
  },
  {
   "cell_type": "code",
   "execution_count": 63,
   "id": "33e3b90e",
   "metadata": {
    "ExecuteTime": {
     "end_time": "2022-03-02T21:38:33.558822Z",
     "start_time": "2022-03-02T21:38:33.514350Z"
    },
    "id": "33e3b90e",
    "outputId": "c589e6cb-a4fc-4713-c9a3-b92aef82c5f3"
   },
   "outputs": [
    {
     "data": {
      "text/plain": [
       "{'Modelo': 'Reg.Linear Treino',\n",
       " 'r2_score': 0.6133861487845919,\n",
       " 'Mape': 0.21027602503517653,\n",
       " 'Rmse': 118076.85538038833}"
      ]
     },
     "execution_count": 63,
     "metadata": {},
     "output_type": "execute_result"
    }
   ],
   "source": [
    "metricas(y_true=ytrain, y_pred=lm.predict(Xtrain), nome_modelo=\"Reg.Linear Treino\")"
   ]
  },
  {
   "cell_type": "code",
   "execution_count": 64,
   "id": "34fdbbc2",
   "metadata": {
    "ExecuteTime": {
     "end_time": "2022-03-02T21:38:33.811310Z",
     "start_time": "2022-03-02T21:38:33.570192Z"
    },
    "id": "34fdbbc2",
    "outputId": "04b06817-28ea-4b14-86d7-223444d479cf"
   },
   "outputs": [
    {
     "data": {
      "text/plain": [
       "{'Modelo': 'Reg.Linear Cross.Val',\n",
       " 'r2_score': (0.6121897495631295, 0.011937577160515817),\n",
       " 'Mape': (-0.21044366435478795, 0.0053295994189676765),\n",
       " 'Rmse': (-118171.96584772071, 2179.9284755915082)}"
      ]
     },
     "execution_count": 64,
     "metadata": {},
     "output_type": "execute_result"
    }
   ],
   "source": [
    "metricas_cv(Xtrain, ytrain, \"Reg.Linear Cross.Val\", lm)"
   ]
  },
  {
   "cell_type": "markdown",
   "id": "39f93c22",
   "metadata": {
    "id": "39f93c22"
   },
   "source": [
    "### Regressão Polinomial"
   ]
  },
  {
   "cell_type": "code",
   "execution_count": 65,
   "id": "18b826f6",
   "metadata": {
    "ExecuteTime": {
     "end_time": "2022-03-02T21:38:35.530200Z",
     "start_time": "2022-03-02T21:38:35.518966Z"
    },
    "id": "18b826f6"
   },
   "outputs": [],
   "source": [
    "poly = PolynomialFeatures(3)"
   ]
  },
  {
   "cell_type": "code",
   "execution_count": 66,
   "id": "656448c1",
   "metadata": {
    "ExecuteTime": {
     "end_time": "2022-03-02T21:38:35.723427Z",
     "start_time": "2022-03-02T21:38:35.667058Z"
    },
    "id": "656448c1"
   },
   "outputs": [],
   "source": [
    "Xtrain_poly = poly.fit_transform(Xtrain)\n",
    "Xtest_poly = poly.fit_transform(Xtest)"
   ]
  },
  {
   "cell_type": "code",
   "execution_count": 67,
   "id": "b2f7fb7c",
   "metadata": {
    "ExecuteTime": {
     "end_time": "2022-03-02T21:38:36.316720Z",
     "start_time": "2022-03-02T21:38:35.805016Z"
    },
    "id": "b2f7fb7c",
    "outputId": "1800fd25-9889-4ef4-9c05-bad73e371e7f"
   },
   "outputs": [
    {
     "data": {
      "text/plain": [
       "LinearRegression()"
      ]
     },
     "execution_count": 67,
     "metadata": {},
     "output_type": "execute_result"
    }
   ],
   "source": [
    "lm.fit(Xtrain_poly, ytrain)"
   ]
  },
  {
   "cell_type": "code",
   "execution_count": 68,
   "id": "bac5f3ed",
   "metadata": {
    "ExecuteTime": {
     "end_time": "2022-03-02T21:38:36.513586Z",
     "start_time": "2022-03-02T21:38:36.489862Z"
    },
    "id": "bac5f3ed",
    "outputId": "618cb7a3-df32-4aa3-d898-dae1886ffa82"
   },
   "outputs": [
    {
     "data": {
      "text/plain": [
       "{'Modelo': 'Reg.Polinomial Treino',\n",
       " 'r2_score': 0.7684996996046636,\n",
       " 'Mape': 0.1657777753408488,\n",
       " 'Rmse': 91369.62726405005}"
      ]
     },
     "execution_count": 68,
     "metadata": {},
     "output_type": "execute_result"
    }
   ],
   "source": [
    "metricas(y_true=ytrain, y_pred=lm.predict(Xtrain_poly), nome_modelo=\"Reg.Polinomial Treino\")"
   ]
  },
  {
   "cell_type": "code",
   "execution_count": null,
   "id": "7fe5849a",
   "metadata": {
    "ExecuteTime": {
     "end_time": "2022-01-29T18:43:58.256310Z",
     "start_time": "2022-01-29T18:43:56.714381Z"
    },
    "id": "7fe5849a",
    "outputId": "8005322b-4512-41c6-f0d9-42bfffc933c5"
   },
   "outputs": [
    {
     "data": {
      "text/plain": [
       "{'Modelo': 'Reg.Polinomial Cross.Val',\n",
       " 'r2_score': (0.759731395828518, 0.005858283560223898),\n",
       " 'Mape': (-0.16812421872935895, 0.004008244189134865),\n",
       " 'Rmse': (-93029.00877516613, 1988.0937852287018)}"
      ]
     },
     "execution_count": 47,
     "metadata": {},
     "output_type": "execute_result"
    }
   ],
   "source": [
    "metricas_cv(Xtrain_poly, ytrain, \"Reg.Polinomial Cross.Val\", lm)"
   ]
  },
  {
   "cell_type": "markdown",
   "id": "62d0fa6c",
   "metadata": {
    "id": "62d0fa6c"
   },
   "source": [
    "### Random Forest"
   ]
  },
  {
   "cell_type": "code",
   "execution_count": 69,
   "id": "82e69059",
   "metadata": {
    "ExecuteTime": {
     "end_time": "2022-03-02T21:38:38.371406Z",
     "start_time": "2022-03-02T21:38:38.366863Z"
    },
    "id": "82e69059"
   },
   "outputs": [],
   "source": [
    "forest = RandomForestRegressor(min_samples_leaf = 8, random_state = 42)"
   ]
  },
  {
   "cell_type": "code",
   "execution_count": 70,
   "id": "b702c693",
   "metadata": {
    "ExecuteTime": {
     "end_time": "2022-03-02T21:38:42.070876Z",
     "start_time": "2022-03-02T21:38:38.529333Z"
    },
    "id": "b702c693",
    "outputId": "b10a19f6-b3f1-4b8f-ea32-dea1dee15507"
   },
   "outputs": [
    {
     "data": {
      "text/plain": [
       "RandomForestRegressor(min_samples_leaf=8, random_state=42)"
      ]
     },
     "execution_count": 70,
     "metadata": {},
     "output_type": "execute_result"
    }
   ],
   "source": [
    "forest.fit(Xtrain, ytrain)"
   ]
  },
  {
   "cell_type": "code",
   "execution_count": 71,
   "id": "6b4af1aa",
   "metadata": {
    "ExecuteTime": {
     "end_time": "2022-03-02T21:38:42.398197Z",
     "start_time": "2022-03-02T21:38:42.074191Z"
    },
    "id": "6b4af1aa",
    "outputId": "14019f64-44c0-446e-af8b-477cc26808b5"
   },
   "outputs": [
    {
     "data": {
      "text/plain": [
       "{'Modelo': 'Random Forest Treino',\n",
       " 'r2_score': 0.8674073629080944,\n",
       " 'Mape': 0.11480175676507745,\n",
       " 'Rmse': 69148.97993533262}"
      ]
     },
     "execution_count": 71,
     "metadata": {},
     "output_type": "execute_result"
    }
   ],
   "source": [
    "metricas(y_true=ytrain, y_pred=forest.predict(Xtrain), nome_modelo=\"Random Forest Treino\")"
   ]
  },
  {
   "cell_type": "code",
   "execution_count": 72,
   "id": "f9c8d56f",
   "metadata": {
    "ExecuteTime": {
     "end_time": "2022-03-02T21:39:25.411793Z",
     "start_time": "2022-03-02T21:38:42.402706Z"
    },
    "id": "f9c8d56f",
    "outputId": "980d9a59-4976-4a8c-b437-8253427d9e20"
   },
   "outputs": [
    {
     "data": {
      "text/plain": [
       "{'Modelo': 'Random Forest Cross.Val',\n",
       " 'r2_score': (0.8004802761156717, 0.003496602204491986),\n",
       " 'Mape': (-0.1406975742523134, 0.0018494606943251879),\n",
       " 'Rmse': (-84767.9132810024, 1111.7432765414449)}"
      ]
     },
     "execution_count": 72,
     "metadata": {},
     "output_type": "execute_result"
    }
   ],
   "source": [
    "metricas_cv(Xtrain, ytrain, \"Random Forest Cross.Val\", forest)"
   ]
  },
  {
   "cell_type": "markdown",
   "id": "56e3cfcb",
   "metadata": {
    "id": "56e3cfcb"
   },
   "source": [
    "### Gradient Boosting"
   ]
  },
  {
   "cell_type": "code",
   "execution_count": 73,
   "id": "7a42d8bf",
   "metadata": {
    "ExecuteTime": {
     "end_time": "2022-03-02T21:39:25.445880Z",
     "start_time": "2022-03-02T21:39:25.420175Z"
    },
    "id": "7a42d8bf"
   },
   "outputs": [],
   "source": [
    "boost = GradientBoostingRegressor(min_samples_leaf = 8, subsample = 0.8)"
   ]
  },
  {
   "cell_type": "code",
   "execution_count": 74,
   "id": "d7c4ebda",
   "metadata": {
    "ExecuteTime": {
     "end_time": "2022-03-02T21:39:27.044589Z",
     "start_time": "2022-03-02T21:39:25.448121Z"
    },
    "id": "d7c4ebda",
    "outputId": "2f40123c-ff86-4fce-cf77-514ad58dfec9"
   },
   "outputs": [
    {
     "data": {
      "text/plain": [
       "GradientBoostingRegressor(min_samples_leaf=8, subsample=0.8)"
      ]
     },
     "execution_count": 74,
     "metadata": {},
     "output_type": "execute_result"
    }
   ],
   "source": [
    "boost.fit(Xtrain, ytrain)"
   ]
  },
  {
   "cell_type": "code",
   "execution_count": 75,
   "id": "504a22a3",
   "metadata": {
    "ExecuteTime": {
     "end_time": "2022-03-02T21:39:27.121598Z",
     "start_time": "2022-03-02T21:39:27.050281Z"
    },
    "id": "504a22a3",
    "outputId": "d49bdb49-e5ad-43ad-a92c-443c53d5cd66"
   },
   "outputs": [
    {
     "data": {
      "text/plain": [
       "{'Modelo': 'G.Boost Treino',\n",
       " 'r2_score': 0.8114413998518506,\n",
       " 'Mape': 0.13985496135417746,\n",
       " 'Rmse': 82461.12328541333}"
      ]
     },
     "execution_count": 75,
     "metadata": {},
     "output_type": "execute_result"
    }
   ],
   "source": [
    "metricas(y_true=ytrain, y_pred=boost.predict(Xtrain), nome_modelo=\"G.Boost Treino\")"
   ]
  },
  {
   "cell_type": "code",
   "execution_count": 76,
   "id": "51881f30",
   "metadata": {
    "ExecuteTime": {
     "end_time": "2022-03-02T21:39:45.446781Z",
     "start_time": "2022-03-02T21:39:27.128625Z"
    },
    "id": "51881f30",
    "outputId": "4e5ac84c-3056-4710-df09-a8d82a9edd98",
    "scrolled": true
   },
   "outputs": [
    {
     "data": {
      "text/plain": [
       "{'Modelo': 'G.boost Cross.Val',\n",
       " 'r2_score': (0.7982926098631775, 0.002634484069196448),\n",
       " 'Mape': (-0.14362774631083897, 0.0030304858562212405),\n",
       " 'Rmse': (-85252.14050336152, 1722.8990452358985)}"
      ]
     },
     "execution_count": 76,
     "metadata": {},
     "output_type": "execute_result"
    }
   ],
   "source": [
    "metricas_cv(Xtrain, ytrain, \"G.boost Cross.Val\", boost)"
   ]
  },
  {
   "cell_type": "markdown",
   "id": "960d89c8",
   "metadata": {
    "id": "960d89c8"
   },
   "source": [
    "Dos modelos testados, o que aprendeu a generalizar melhor foi o modelo de Gradient Boosting, iremos usá-lo para realizar as predições."
   ]
  },
  {
   "cell_type": "markdown",
   "id": "0a2b6de7",
   "metadata": {
    "id": "0a2b6de7"
   },
   "source": [
    "## 3.3 Otimização de Hiperparâmetros"
   ]
  },
  {
   "cell_type": "code",
   "execution_count": null,
   "id": "158b4cb9",
   "metadata": {
    "ExecuteTime": {
     "end_time": "2022-01-24T00:39:01.732966Z",
     "start_time": "2022-01-24T00:30:04.509944Z"
    },
    "id": "158b4cb9",
    "outputId": "2799c38d-7f10-4569-ade2-70038d6fc40f"
   },
   "outputs": [
    {
     "name": "stdout",
     "output_type": "stream",
     "text": [
      "{'min_samples_split': 5, 'max_features': 'log2', 'max_depth': 8, 'learning_rate': 0.1}\n",
      "\n",
      "-81768.6058905597\n"
     ]
    }
   ],
   "source": [
    "params = {\"min_samples_split\":[5, 8, 13],\n",
    "          \"max_depth\":[3, 5, 8, 13, 21, 34],\n",
    "          \"max_features\":[\"auto\", \"sqrt\", \"log2\"],\n",
    "          \"learning_rate\":[0.1, 0.15, 0.2]}\n",
    "\n",
    "reg = RandomizedSearchCV(GradientBoostingRegressor(subsample=0.8), param_distributions=params, n_iter=50, cv=5, scoring=\"neg_root_mean_squared_error\")\n",
    "reg.fit(Xtrain, ytrain)\n",
    "print(reg.best_params_)\n",
    "print()\n",
    "print(reg.best_score_)"
   ]
  },
  {
   "cell_type": "code",
   "execution_count": 77,
   "id": "241433bc",
   "metadata": {
    "ExecuteTime": {
     "end_time": "2022-03-02T21:39:47.488286Z",
     "start_time": "2022-03-02T21:39:45.451385Z"
    },
    "colab": {
     "base_uri": "https://localhost:8080/"
    },
    "id": "241433bc",
    "outputId": "50b315d0-9eb3-45b3-9501-3ff9eb9cbbce"
   },
   "outputs": [
    {
     "data": {
      "text/plain": [
       "GradientBoostingRegressor(max_depth=8, max_features='log2', min_samples_split=5)"
      ]
     },
     "execution_count": 77,
     "metadata": {},
     "output_type": "execute_result"
    }
   ],
   "source": [
    "final_model = GradientBoostingRegressor(min_samples_split=5, max_features=\"log2\", max_depth=8)\n",
    "final_model.fit(Xtrain, ytrain)"
   ]
  },
  {
   "cell_type": "code",
   "execution_count": 26,
   "id": "e6590c20",
   "metadata": {
    "ExecuteTime": {
     "end_time": "2022-03-02T21:35:39.168718Z",
     "start_time": "2022-03-02T21:35:18.182810Z"
    },
    "colab": {
     "base_uri": "https://localhost:8080/"
    },
    "id": "e6590c20",
    "outputId": "cd0cb0cb-2af6-4063-9079-255aa542c751"
   },
   "outputs": [
    {
     "data": {
      "text/plain": [
       "{'Modelo': 'Modelo Final',\n",
       " 'r2_score': (0.8111761601313641, 0.0050687841638260775),\n",
       " 'Mape': (-0.1379665280537159, 0.0024297329106308303),\n",
       " 'Rmse': (-82299.55818311879, 1457.5882718421042)}"
      ]
     },
     "execution_count": 26,
     "metadata": {},
     "output_type": "execute_result"
    }
   ],
   "source": [
    "metricas_cv(Xtrain, ytrain, \"Modelo Final\", final_model)"
   ]
  },
  {
   "cell_type": "markdown",
   "id": "a7f449e3",
   "metadata": {
    "id": "a7f449e3"
   },
   "source": [
    "## 3.4 Avaliação Final"
   ]
  },
  {
   "cell_type": "markdown",
   "id": "a14da366",
   "metadata": {
    "id": "a14da366"
   },
   "source": [
    "Agora vamos avaliar o modelo final nos dados de teste, para ver se está generalizando para dados não vistos."
   ]
  },
  {
   "cell_type": "code",
   "execution_count": 27,
   "id": "1fa81bc3",
   "metadata": {
    "ExecuteTime": {
     "end_time": "2022-03-02T21:35:47.667071Z",
     "start_time": "2022-03-02T21:35:47.614000Z"
    },
    "colab": {
     "base_uri": "https://localhost:8080/"
    },
    "id": "1fa81bc3",
    "outputId": "c1b8f888-be2d-4d2d-a6b1-1d839d0666aa",
    "scrolled": true
   },
   "outputs": [
    {
     "data": {
      "text/plain": [
       "{'Modelo': 'Modelo Final - Dados Teste',\n",
       " 'r2_score': 0.8261888867873443,\n",
       " 'Mape': 0.13273004881945516,\n",
       " 'Rmse': 79921.58686258024}"
      ]
     },
     "execution_count": 27,
     "metadata": {},
     "output_type": "execute_result"
    }
   ],
   "source": [
    "metricas(y_true=ytest, y_pred=final_model.predict(Xtest), nome_modelo=\"Modelo Final - Dados Teste\")"
   ]
  },
  {
   "cell_type": "markdown",
   "id": "526ed8af",
   "metadata": {
    "id": "526ed8af"
   },
   "source": [
    "Nosso modelo consegue \"explicar\" 82% da variabilidade do fenômeno avaliado - preço das casas. \n",
    "\n",
    "O erro médio é aproximadamente 13% do valor real. \n",
    "\n",
    "O RMSE pode parecer alto, mas vale ressaltar que possuímos imóveis de até 1 milhão de dólares, o erro relativo a casas muito caras pesa no cálculo do RMSE que da pesos maiores a erros maiores. Então se pensar por esta maneira verá o modelo performa na realidade, bem."
   ]
  },
  {
   "cell_type": "markdown",
   "id": "ad03cf95",
   "metadata": {
    "id": "ad03cf95"
   },
   "source": [
    "## 3.5 Exportando Modelo e Pipeline"
   ]
  },
  {
   "cell_type": "markdown",
   "id": "342e1617",
   "metadata": {
    "id": "342e1617"
   },
   "source": [
    "Exportando o modelo em .pkl para colocá-lo em produção posteriormente."
   ]
  },
  {
   "cell_type": "code",
   "execution_count": null,
   "id": "f5434f17",
   "metadata": {
    "ExecuteTime": {
     "end_time": "2022-01-29T18:50:05.920013Z",
     "start_time": "2022-01-29T18:50:05.884217Z"
    },
    "id": "f5434f17"
   },
   "outputs": [],
   "source": [
    "# Tranformadores\n",
    "\n",
    "pickle.dump(mm_scaler, open(\"mm_scaler.pkl\", \"wb\"))"
   ]
  },
  {
   "cell_type": "code",
   "execution_count": null,
   "id": "929aeff0",
   "metadata": {
    "ExecuteTime": {
     "end_time": "2022-01-29T18:51:14.017338Z",
     "start_time": "2022-01-29T18:51:13.987969Z"
    },
    "id": "929aeff0"
   },
   "outputs": [],
   "source": [
    "pickle.dump(final_model, open(\"house_sales_model.pkl\", \"wb\"))"
   ]
  },
  {
   "cell_type": "markdown",
   "id": "78ba326f",
   "metadata": {
    "id": "78ba326f"
   },
   "source": [
    "## 3.6 Performance de Negócio"
   ]
  },
  {
   "cell_type": "code",
   "execution_count": 114,
   "id": "901c4584",
   "metadata": {
    "ExecuteTime": {
     "end_time": "2022-03-02T21:45:47.566705Z",
     "start_time": "2022-03-02T21:45:47.540519Z"
    }
   },
   "outputs": [],
   "source": [
    "dff.drop([\"sqft_lot\", \"waterfront\", \"condition\", \"long\", \"idade_casa\", \"ja_reformado\"], axis=1, inplace=True)\n",
    "X = dff.drop([\"price\", \"id\"], axis=1).values\n",
    "y = dff.price.values.reshape(-1, 1)\n",
    "\n",
    "X = mm_scaler.transform(X)"
   ]
  },
  {
   "cell_type": "code",
   "execution_count": 115,
   "id": "1cecf675",
   "metadata": {
    "ExecuteTime": {
     "end_time": "2022-03-02T21:45:50.068229Z",
     "start_time": "2022-03-02T21:45:49.865469Z"
    },
    "id": "1cecf675"
   },
   "outputs": [],
   "source": [
    "valores_estimados = np.round(final_model.predict(X), 2)"
   ]
  },
  {
   "cell_type": "code",
   "execution_count": 117,
   "id": "d56c7911",
   "metadata": {
    "ExecuteTime": {
     "end_time": "2022-03-02T21:45:53.895809Z",
     "start_time": "2022-03-02T21:45:53.880377Z"
    },
    "id": "d56c7911"
   },
   "outputs": [],
   "source": [
    "df_temp = dff[[\"id\", \"price\"]]"
   ]
  },
  {
   "cell_type": "code",
   "execution_count": 118,
   "id": "9jF_VB_ydR9m",
   "metadata": {
    "ExecuteTime": {
     "end_time": "2022-03-02T21:45:59.008959Z",
     "start_time": "2022-03-02T21:45:59.003500Z"
    },
    "id": "9jF_VB_ydR9m"
   },
   "outputs": [],
   "source": [
    "df_temp[\"valor_estimado\"] = valores_estimados"
   ]
  },
  {
   "cell_type": "code",
   "execution_count": 119,
   "id": "q-ifKufYdonR",
   "metadata": {
    "ExecuteTime": {
     "end_time": "2022-03-02T21:46:02.467936Z",
     "start_time": "2022-03-02T21:46:00.252146Z"
    },
    "id": "q-ifKufYdonR"
   },
   "outputs": [],
   "source": [
    "valor_venda=[]\n",
    "\n",
    "for _, row in df_temp.iterrows():\n",
    "    if row[\"price\"] >= row[\"valor_estimado\"]:\n",
    "        valor = row[\"price\"] + (0.1 * row[\"price\"])\n",
    "        valor_venda.append(valor)\n",
    "    elif row[\"price\"] < row[\"valor_estimado\"]:\n",
    "        valor = row[\"price\"] + (row[\"valor_estimado\"] - row[\"price\"]) + (0.1 * row[\"price\"])\n",
    "        valor_venda.append(valor)\n",
    "    else:\n",
    "        print(\"Algo deu errado!\")\n",
    "        \n",
    "df_temp[\"valor_venda\"] = valor_venda\n",
    "df_temp[\"lucro\"] = df_temp.valor_venda - df_temp.price"
   ]
  },
  {
   "cell_type": "code",
   "execution_count": 120,
   "id": "K4vcfgJldoj4",
   "metadata": {
    "ExecuteTime": {
     "end_time": "2022-03-02T21:46:03.495291Z",
     "start_time": "2022-03-02T21:46:03.459286Z"
    },
    "colab": {
     "base_uri": "https://localhost:8080/",
     "height": 424
    },
    "id": "K4vcfgJldoj4",
    "outputId": "14299d32-e717-42f3-beeb-26a766b37fad"
   },
   "outputs": [
    {
     "data": {
      "text/html": [
       "<div>\n",
       "<style scoped>\n",
       "    .dataframe tbody tr th:only-of-type {\n",
       "        vertical-align: middle;\n",
       "    }\n",
       "\n",
       "    .dataframe tbody tr th {\n",
       "        vertical-align: top;\n",
       "    }\n",
       "\n",
       "    .dataframe thead th {\n",
       "        text-align: right;\n",
       "    }\n",
       "</style>\n",
       "<table border=\"1\" class=\"dataframe\">\n",
       "  <thead>\n",
       "    <tr style=\"text-align: right;\">\n",
       "      <th></th>\n",
       "      <th>id</th>\n",
       "      <th>price</th>\n",
       "      <th>valor_estimado</th>\n",
       "      <th>valor_venda</th>\n",
       "      <th>lucro</th>\n",
       "    </tr>\n",
       "  </thead>\n",
       "  <tbody>\n",
       "    <tr>\n",
       "      <th>0</th>\n",
       "      <td>7129300520</td>\n",
       "      <td>221900.0</td>\n",
       "      <td>274055.79</td>\n",
       "      <td>296245.79</td>\n",
       "      <td>74345.79</td>\n",
       "    </tr>\n",
       "    <tr>\n",
       "      <th>1</th>\n",
       "      <td>6414100192</td>\n",
       "      <td>538000.0</td>\n",
       "      <td>537494.03</td>\n",
       "      <td>591800.00</td>\n",
       "      <td>53800.00</td>\n",
       "    </tr>\n",
       "    <tr>\n",
       "      <th>2</th>\n",
       "      <td>5631500400</td>\n",
       "      <td>180000.0</td>\n",
       "      <td>179424.22</td>\n",
       "      <td>198000.00</td>\n",
       "      <td>18000.00</td>\n",
       "    </tr>\n",
       "    <tr>\n",
       "      <th>3</th>\n",
       "      <td>2487200875</td>\n",
       "      <td>604000.0</td>\n",
       "      <td>380962.54</td>\n",
       "      <td>664400.00</td>\n",
       "      <td>60400.00</td>\n",
       "    </tr>\n",
       "    <tr>\n",
       "      <th>4</th>\n",
       "      <td>1954400510</td>\n",
       "      <td>510000.0</td>\n",
       "      <td>577803.24</td>\n",
       "      <td>628803.24</td>\n",
       "      <td>118803.24</td>\n",
       "    </tr>\n",
       "    <tr>\n",
       "      <th>...</th>\n",
       "      <td>...</td>\n",
       "      <td>...</td>\n",
       "      <td>...</td>\n",
       "      <td>...</td>\n",
       "      <td>...</td>\n",
       "    </tr>\n",
       "    <tr>\n",
       "      <th>21608</th>\n",
       "      <td>263000018</td>\n",
       "      <td>360000.0</td>\n",
       "      <td>425904.00</td>\n",
       "      <td>461904.00</td>\n",
       "      <td>101904.00</td>\n",
       "    </tr>\n",
       "    <tr>\n",
       "      <th>21609</th>\n",
       "      <td>6600060120</td>\n",
       "      <td>400000.0</td>\n",
       "      <td>418324.62</td>\n",
       "      <td>458324.62</td>\n",
       "      <td>58324.62</td>\n",
       "    </tr>\n",
       "    <tr>\n",
       "      <th>21610</th>\n",
       "      <td>1523300141</td>\n",
       "      <td>402101.0</td>\n",
       "      <td>355283.81</td>\n",
       "      <td>442311.10</td>\n",
       "      <td>40210.10</td>\n",
       "    </tr>\n",
       "    <tr>\n",
       "      <th>21611</th>\n",
       "      <td>291310100</td>\n",
       "      <td>400000.0</td>\n",
       "      <td>383593.41</td>\n",
       "      <td>440000.00</td>\n",
       "      <td>40000.00</td>\n",
       "    </tr>\n",
       "    <tr>\n",
       "      <th>21612</th>\n",
       "      <td>1523300157</td>\n",
       "      <td>325000.0</td>\n",
       "      <td>355283.81</td>\n",
       "      <td>387783.81</td>\n",
       "      <td>62783.81</td>\n",
       "    </tr>\n",
       "  </tbody>\n",
       "</table>\n",
       "<p>21613 rows × 5 columns</p>\n",
       "</div>"
      ],
      "text/plain": [
       "               id     price  valor_estimado  valor_venda      lucro\n",
       "0      7129300520  221900.0       274055.79    296245.79   74345.79\n",
       "1      6414100192  538000.0       537494.03    591800.00   53800.00\n",
       "2      5631500400  180000.0       179424.22    198000.00   18000.00\n",
       "3      2487200875  604000.0       380962.54    664400.00   60400.00\n",
       "4      1954400510  510000.0       577803.24    628803.24  118803.24\n",
       "...           ...       ...             ...          ...        ...\n",
       "21608   263000018  360000.0       425904.00    461904.00  101904.00\n",
       "21609  6600060120  400000.0       418324.62    458324.62   58324.62\n",
       "21610  1523300141  402101.0       355283.81    442311.10   40210.10\n",
       "21611   291310100  400000.0       383593.41    440000.00   40000.00\n",
       "21612  1523300157  325000.0       355283.81    387783.81   62783.81\n",
       "\n",
       "[21613 rows x 5 columns]"
      ]
     },
     "execution_count": 120,
     "metadata": {},
     "output_type": "execute_result"
    }
   ],
   "source": [
    "df_temp"
   ]
  },
  {
   "cell_type": "code",
   "execution_count": 121,
   "id": "Du4D8VgqdogU",
   "metadata": {
    "ExecuteTime": {
     "end_time": "2022-03-02T21:46:11.172378Z",
     "start_time": "2022-03-02T21:46:11.156544Z"
    },
    "colab": {
     "base_uri": "https://localhost:8080/"
    },
    "id": "Du4D8VgqdogU",
    "outputId": "e2fc491c-ea20-4070-f018-8e87f8bd511c"
   },
   "outputs": [
    {
     "name": "stdout",
     "output_type": "stream",
     "text": [
      "O lucro total com esta estratégia é de: R$ 1,654,681,700.24\n"
     ]
    }
   ],
   "source": [
    "print(f\"O lucro total com esta estratégia é de: R$ {df_temp.lucro.sum():,.2f}\")"
   ]
  },
  {
   "cell_type": "markdown",
   "id": "36dc0c80",
   "metadata": {},
   "source": [
    "Utilizando o modelo de precificação desenvolvido conseguimos elevar o lucro da empresa em 505,444 milhões (cerca de 43%) comparado com a estratégia anterior."
   ]
  }
 ],
 "metadata": {
  "colab": {
   "name": "house_rocket_regression.ipynb",
   "provenance": []
  },
  "kernelspec": {
   "display_name": "Python 3 (ipykernel)",
   "language": "python",
   "name": "python3"
  },
  "language_info": {
   "codemirror_mode": {
    "name": "ipython",
    "version": 3
   },
   "file_extension": ".py",
   "mimetype": "text/x-python",
   "name": "python",
   "nbconvert_exporter": "python",
   "pygments_lexer": "ipython3",
   "version": "3.8.8"
  }
 },
 "nbformat": 4,
 "nbformat_minor": 5
}
