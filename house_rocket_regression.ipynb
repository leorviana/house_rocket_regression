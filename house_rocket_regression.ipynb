{
 "cells": [
  {
   "cell_type": "markdown",
   "id": "d5fa7993",
   "metadata": {},
   "source": [
    "# 0.0 Imports"
   ]
  },
  {
   "cell_type": "code",
   "execution_count": 1,
   "id": "04777b71",
   "metadata": {
    "ExecuteTime": {
     "end_time": "2022-01-29T18:36:33.223980Z",
     "start_time": "2022-01-29T18:35:51.871966Z"
    }
   },
   "outputs": [],
   "source": [
    "import pandas as pd\n",
    "import numpy as np\n",
    "import matplotlib.pyplot as plt\n",
    "import seaborn as sns\n",
    "from scipy import stats\n",
    "from sklearn.preprocessing import MinMaxScaler, PolynomialFeatures\n",
    "from sklearn.model_selection import train_test_split, cross_val_score, RandomizedSearchCV\n",
    "from sklearn.linear_model import LinearRegression\n",
    "from sklearn.ensemble import RandomForestRegressor, GradientBoostingRegressor\n",
    "from sklearn.metrics import r2_score, mean_absolute_percentage_error, mean_squared_error\n",
    "\n",
    "import pickle\n",
    "\n",
    "import warnings\n",
    "warnings.filterwarnings(\"ignore\")"
   ]
  },
  {
   "cell_type": "markdown",
   "id": "3b10ec8c",
   "metadata": {},
   "source": [
    "# 0.1 Funções"
   ]
  },
  {
   "cell_type": "code",
   "execution_count": 2,
   "id": "d6b278eb",
   "metadata": {
    "ExecuteTime": {
     "end_time": "2022-01-29T18:36:33.261431Z",
     "start_time": "2022-01-29T18:36:33.232814Z"
    }
   },
   "outputs": [],
   "source": [
    "def rmse(y_true, y_pred):\n",
    "    return np.sqrt(mean_squared_error(y_true, y_pred))"
   ]
  },
  {
   "cell_type": "code",
   "execution_count": 3,
   "id": "9e2c6ba0",
   "metadata": {
    "ExecuteTime": {
     "end_time": "2022-01-29T18:36:33.388459Z",
     "start_time": "2022-01-29T18:36:33.270548Z"
    }
   },
   "outputs": [],
   "source": [
    "def metricas_cv(X_train, y_train, nome_modelo, modelo):\n",
    "    rmse_ = cross_val_score(modelo, X_train, y_train, cv=5, scoring=\"neg_root_mean_squared_error\")\n",
    "    r2 = cross_val_score(modelo, X_train, y_train, cv=5, scoring=\"r2\")\n",
    "    mape = cross_val_score(modelo, X_train, y_train, cv=5, scoring=\"neg_mean_absolute_percentage_error\")\n",
    "    \n",
    "    resultados = {\"Modelo\": nome_modelo, \"r2_score\": (np.mean(r2), np.std(r2)), \"Mape\": (np.mean(mape), np.std(mape)), \"Rmse\": (np.mean(rmse_), np.std(rmse_))}\n",
    "    \n",
    "    return resultados"
   ]
  },
  {
   "cell_type": "code",
   "execution_count": 4,
   "id": "e0bbb351",
   "metadata": {
    "ExecuteTime": {
     "end_time": "2022-01-29T18:36:33.479924Z",
     "start_time": "2022-01-29T18:36:33.402770Z"
    }
   },
   "outputs": [],
   "source": [
    "def metricas(y_true, y_pred, nome_modelo):\n",
    "    rmse_ = rmse(y_true, y_pred)\n",
    "    r2 = r2_score(y_true, y_pred)\n",
    "    mape = mean_absolute_percentage_error(y_true, y_pred)\n",
    "    \n",
    "    resultados = {\"Modelo\": nome_modelo, \"r2_score\": r2, \"Mape\": mape, \"Rmse\": rmse_}\n",
    "    \n",
    "    return resultados"
   ]
  },
  {
   "cell_type": "markdown",
   "id": "ff62e9a5",
   "metadata": {},
   "source": [
    "# 1. Conhecendo os Dados"
   ]
  },
  {
   "cell_type": "markdown",
   "id": "193929b7",
   "metadata": {},
   "source": [
    "## 1.1 Primeiras Linhas"
   ]
  },
  {
   "cell_type": "code",
   "execution_count": 5,
   "id": "18f19967",
   "metadata": {
    "ExecuteTime": {
     "end_time": "2022-01-29T18:36:34.300768Z",
     "start_time": "2022-01-29T18:36:33.489982Z"
    },
    "scrolled": true
   },
   "outputs": [
    {
     "data": {
      "text/html": [
       "<div>\n",
       "<style scoped>\n",
       "    .dataframe tbody tr th:only-of-type {\n",
       "        vertical-align: middle;\n",
       "    }\n",
       "\n",
       "    .dataframe tbody tr th {\n",
       "        vertical-align: top;\n",
       "    }\n",
       "\n",
       "    .dataframe thead th {\n",
       "        text-align: right;\n",
       "    }\n",
       "</style>\n",
       "<table border=\"1\" class=\"dataframe\">\n",
       "  <thead>\n",
       "    <tr style=\"text-align: right;\">\n",
       "      <th></th>\n",
       "      <th>id</th>\n",
       "      <th>date</th>\n",
       "      <th>price</th>\n",
       "      <th>bedrooms</th>\n",
       "      <th>bathrooms</th>\n",
       "      <th>sqft_living</th>\n",
       "      <th>sqft_lot</th>\n",
       "      <th>floors</th>\n",
       "      <th>waterfront</th>\n",
       "      <th>view</th>\n",
       "      <th>...</th>\n",
       "      <th>grade</th>\n",
       "      <th>sqft_above</th>\n",
       "      <th>sqft_basement</th>\n",
       "      <th>yr_built</th>\n",
       "      <th>yr_renovated</th>\n",
       "      <th>zipcode</th>\n",
       "      <th>lat</th>\n",
       "      <th>long</th>\n",
       "      <th>sqft_living15</th>\n",
       "      <th>sqft_lot15</th>\n",
       "    </tr>\n",
       "  </thead>\n",
       "  <tbody>\n",
       "    <tr>\n",
       "      <th>0</th>\n",
       "      <td>7129300520</td>\n",
       "      <td>20141013T000000</td>\n",
       "      <td>221900.0</td>\n",
       "      <td>3</td>\n",
       "      <td>1.00</td>\n",
       "      <td>1180</td>\n",
       "      <td>5650</td>\n",
       "      <td>1.0</td>\n",
       "      <td>0</td>\n",
       "      <td>0</td>\n",
       "      <td>...</td>\n",
       "      <td>7</td>\n",
       "      <td>1180</td>\n",
       "      <td>0</td>\n",
       "      <td>1955</td>\n",
       "      <td>0</td>\n",
       "      <td>98178</td>\n",
       "      <td>47.5112</td>\n",
       "      <td>-122.257</td>\n",
       "      <td>1340</td>\n",
       "      <td>5650</td>\n",
       "    </tr>\n",
       "    <tr>\n",
       "      <th>1</th>\n",
       "      <td>6414100192</td>\n",
       "      <td>20141209T000000</td>\n",
       "      <td>538000.0</td>\n",
       "      <td>3</td>\n",
       "      <td>2.25</td>\n",
       "      <td>2570</td>\n",
       "      <td>7242</td>\n",
       "      <td>2.0</td>\n",
       "      <td>0</td>\n",
       "      <td>0</td>\n",
       "      <td>...</td>\n",
       "      <td>7</td>\n",
       "      <td>2170</td>\n",
       "      <td>400</td>\n",
       "      <td>1951</td>\n",
       "      <td>1991</td>\n",
       "      <td>98125</td>\n",
       "      <td>47.7210</td>\n",
       "      <td>-122.319</td>\n",
       "      <td>1690</td>\n",
       "      <td>7639</td>\n",
       "    </tr>\n",
       "    <tr>\n",
       "      <th>2</th>\n",
       "      <td>5631500400</td>\n",
       "      <td>20150225T000000</td>\n",
       "      <td>180000.0</td>\n",
       "      <td>2</td>\n",
       "      <td>1.00</td>\n",
       "      <td>770</td>\n",
       "      <td>10000</td>\n",
       "      <td>1.0</td>\n",
       "      <td>0</td>\n",
       "      <td>0</td>\n",
       "      <td>...</td>\n",
       "      <td>6</td>\n",
       "      <td>770</td>\n",
       "      <td>0</td>\n",
       "      <td>1933</td>\n",
       "      <td>0</td>\n",
       "      <td>98028</td>\n",
       "      <td>47.7379</td>\n",
       "      <td>-122.233</td>\n",
       "      <td>2720</td>\n",
       "      <td>8062</td>\n",
       "    </tr>\n",
       "    <tr>\n",
       "      <th>3</th>\n",
       "      <td>2487200875</td>\n",
       "      <td>20141209T000000</td>\n",
       "      <td>604000.0</td>\n",
       "      <td>4</td>\n",
       "      <td>3.00</td>\n",
       "      <td>1960</td>\n",
       "      <td>5000</td>\n",
       "      <td>1.0</td>\n",
       "      <td>0</td>\n",
       "      <td>0</td>\n",
       "      <td>...</td>\n",
       "      <td>7</td>\n",
       "      <td>1050</td>\n",
       "      <td>910</td>\n",
       "      <td>1965</td>\n",
       "      <td>0</td>\n",
       "      <td>98136</td>\n",
       "      <td>47.5208</td>\n",
       "      <td>-122.393</td>\n",
       "      <td>1360</td>\n",
       "      <td>5000</td>\n",
       "    </tr>\n",
       "    <tr>\n",
       "      <th>4</th>\n",
       "      <td>1954400510</td>\n",
       "      <td>20150218T000000</td>\n",
       "      <td>510000.0</td>\n",
       "      <td>3</td>\n",
       "      <td>2.00</td>\n",
       "      <td>1680</td>\n",
       "      <td>8080</td>\n",
       "      <td>1.0</td>\n",
       "      <td>0</td>\n",
       "      <td>0</td>\n",
       "      <td>...</td>\n",
       "      <td>8</td>\n",
       "      <td>1680</td>\n",
       "      <td>0</td>\n",
       "      <td>1987</td>\n",
       "      <td>0</td>\n",
       "      <td>98074</td>\n",
       "      <td>47.6168</td>\n",
       "      <td>-122.045</td>\n",
       "      <td>1800</td>\n",
       "      <td>7503</td>\n",
       "    </tr>\n",
       "  </tbody>\n",
       "</table>\n",
       "<p>5 rows × 21 columns</p>\n",
       "</div>"
      ],
      "text/plain": [
       "           id             date     price  bedrooms  bathrooms  sqft_living  \\\n",
       "0  7129300520  20141013T000000  221900.0         3       1.00         1180   \n",
       "1  6414100192  20141209T000000  538000.0         3       2.25         2570   \n",
       "2  5631500400  20150225T000000  180000.0         2       1.00          770   \n",
       "3  2487200875  20141209T000000  604000.0         4       3.00         1960   \n",
       "4  1954400510  20150218T000000  510000.0         3       2.00         1680   \n",
       "\n",
       "   sqft_lot  floors  waterfront  view  ...  grade  sqft_above  sqft_basement  \\\n",
       "0      5650     1.0           0     0  ...      7        1180              0   \n",
       "1      7242     2.0           0     0  ...      7        2170            400   \n",
       "2     10000     1.0           0     0  ...      6         770              0   \n",
       "3      5000     1.0           0     0  ...      7        1050            910   \n",
       "4      8080     1.0           0     0  ...      8        1680              0   \n",
       "\n",
       "   yr_built  yr_renovated  zipcode      lat     long  sqft_living15  \\\n",
       "0      1955             0    98178  47.5112 -122.257           1340   \n",
       "1      1951          1991    98125  47.7210 -122.319           1690   \n",
       "2      1933             0    98028  47.7379 -122.233           2720   \n",
       "3      1965             0    98136  47.5208 -122.393           1360   \n",
       "4      1987             0    98074  47.6168 -122.045           1800   \n",
       "\n",
       "   sqft_lot15  \n",
       "0        5650  \n",
       "1        7639  \n",
       "2        8062  \n",
       "3        5000  \n",
       "4        7503  \n",
       "\n",
       "[5 rows x 21 columns]"
      ]
     },
     "execution_count": 5,
     "metadata": {},
     "output_type": "execute_result"
    }
   ],
   "source": [
    "df_raw = pd.read_csv(r\"C:/users/leovi/CursoDS/pratica/datasets/kc_house_data.csv\")\n",
    "df_raw.head()"
   ]
  },
  {
   "cell_type": "markdown",
   "id": "0bf77fd6",
   "metadata": {},
   "source": [
    "## 1.2 Dimensões"
   ]
  },
  {
   "cell_type": "code",
   "execution_count": 6,
   "id": "b9e1c0f9",
   "metadata": {
    "ExecuteTime": {
     "end_time": "2022-01-29T18:36:34.345389Z",
     "start_time": "2022-01-29T18:36:34.309646Z"
    }
   },
   "outputs": [
    {
     "name": "stdout",
     "output_type": "stream",
     "text": [
      "Numero de linhas: 21613\n",
      "Numero de colunas: 21\n"
     ]
    }
   ],
   "source": [
    "print(\"Numero de linhas:\",df_raw.shape[0])\n",
    "print(\"Numero de colunas:\",df_raw.shape[1])"
   ]
  },
  {
   "cell_type": "markdown",
   "id": "36d3a50b",
   "metadata": {},
   "source": [
    "## 1.3 Integridade dos Dados"
   ]
  },
  {
   "cell_type": "code",
   "execution_count": 7,
   "id": "d3404cad",
   "metadata": {
    "ExecuteTime": {
     "end_time": "2022-01-29T18:36:34.686715Z",
     "start_time": "2022-01-29T18:36:34.352413Z"
    }
   },
   "outputs": [
    {
     "name": "stdout",
     "output_type": "stream",
     "text": [
      "<class 'pandas.core.frame.DataFrame'>\n",
      "RangeIndex: 21613 entries, 0 to 21612\n",
      "Data columns (total 21 columns):\n",
      " #   Column         Non-Null Count  Dtype  \n",
      "---  ------         --------------  -----  \n",
      " 0   id             21613 non-null  int64  \n",
      " 1   date           21613 non-null  object \n",
      " 2   price          21613 non-null  float64\n",
      " 3   bedrooms       21613 non-null  int64  \n",
      " 4   bathrooms      21613 non-null  float64\n",
      " 5   sqft_living    21613 non-null  int64  \n",
      " 6   sqft_lot       21613 non-null  int64  \n",
      " 7   floors         21613 non-null  float64\n",
      " 8   waterfront     21613 non-null  int64  \n",
      " 9   view           21613 non-null  int64  \n",
      " 10  condition      21613 non-null  int64  \n",
      " 11  grade          21613 non-null  int64  \n",
      " 12  sqft_above     21613 non-null  int64  \n",
      " 13  sqft_basement  21613 non-null  int64  \n",
      " 14  yr_built       21613 non-null  int64  \n",
      " 15  yr_renovated   21613 non-null  int64  \n",
      " 16  zipcode        21613 non-null  int64  \n",
      " 17  lat            21613 non-null  float64\n",
      " 18  long           21613 non-null  float64\n",
      " 19  sqft_living15  21613 non-null  int64  \n",
      " 20  sqft_lot15     21613 non-null  int64  \n",
      "dtypes: float64(5), int64(15), object(1)\n",
      "memory usage: 3.5+ MB\n"
     ]
    }
   ],
   "source": [
    "df_raw.info()"
   ]
  },
  {
   "cell_type": "markdown",
   "id": "d7a9600c",
   "metadata": {},
   "source": [
    "## 1.5 Estatísticas Descritivas"
   ]
  },
  {
   "cell_type": "code",
   "execution_count": 8,
   "id": "b915be96",
   "metadata": {
    "ExecuteTime": {
     "end_time": "2022-01-29T18:36:34.979922Z",
     "start_time": "2022-01-29T18:36:34.696728Z"
    },
    "scrolled": true
   },
   "outputs": [
    {
     "data": {
      "text/html": [
       "<div>\n",
       "<style scoped>\n",
       "    .dataframe tbody tr th:only-of-type {\n",
       "        vertical-align: middle;\n",
       "    }\n",
       "\n",
       "    .dataframe tbody tr th {\n",
       "        vertical-align: top;\n",
       "    }\n",
       "\n",
       "    .dataframe thead th {\n",
       "        text-align: right;\n",
       "    }\n",
       "</style>\n",
       "<table border=\"1\" class=\"dataframe\">\n",
       "  <thead>\n",
       "    <tr style=\"text-align: right;\">\n",
       "      <th></th>\n",
       "      <th>id</th>\n",
       "      <th>price</th>\n",
       "      <th>bedrooms</th>\n",
       "      <th>bathrooms</th>\n",
       "      <th>sqft_living</th>\n",
       "      <th>sqft_lot</th>\n",
       "      <th>floors</th>\n",
       "      <th>waterfront</th>\n",
       "      <th>view</th>\n",
       "      <th>condition</th>\n",
       "      <th>grade</th>\n",
       "      <th>sqft_above</th>\n",
       "      <th>sqft_basement</th>\n",
       "      <th>yr_built</th>\n",
       "      <th>yr_renovated</th>\n",
       "      <th>zipcode</th>\n",
       "      <th>lat</th>\n",
       "      <th>long</th>\n",
       "      <th>sqft_living15</th>\n",
       "      <th>sqft_lot15</th>\n",
       "    </tr>\n",
       "  </thead>\n",
       "  <tbody>\n",
       "    <tr>\n",
       "      <th>count</th>\n",
       "      <td>2.161300e+04</td>\n",
       "      <td>21613.0</td>\n",
       "      <td>21613.0</td>\n",
       "      <td>21613.0</td>\n",
       "      <td>21613.0</td>\n",
       "      <td>21613.0</td>\n",
       "      <td>21613.0</td>\n",
       "      <td>21613.0</td>\n",
       "      <td>21613.0</td>\n",
       "      <td>21613.0</td>\n",
       "      <td>21613.0</td>\n",
       "      <td>21613.0</td>\n",
       "      <td>21613.0</td>\n",
       "      <td>21613.0</td>\n",
       "      <td>21613.0</td>\n",
       "      <td>21613.0</td>\n",
       "      <td>21613.0</td>\n",
       "      <td>21613.0</td>\n",
       "      <td>21613.0</td>\n",
       "      <td>21613.0</td>\n",
       "    </tr>\n",
       "    <tr>\n",
       "      <th>mean</th>\n",
       "      <td>4.580302e+09</td>\n",
       "      <td>540088.1</td>\n",
       "      <td>3.4</td>\n",
       "      <td>2.1</td>\n",
       "      <td>2079.9</td>\n",
       "      <td>15107.0</td>\n",
       "      <td>1.5</td>\n",
       "      <td>0.0</td>\n",
       "      <td>0.2</td>\n",
       "      <td>3.4</td>\n",
       "      <td>7.7</td>\n",
       "      <td>1788.4</td>\n",
       "      <td>291.5</td>\n",
       "      <td>1971.0</td>\n",
       "      <td>84.4</td>\n",
       "      <td>98077.9</td>\n",
       "      <td>47.6</td>\n",
       "      <td>-122.2</td>\n",
       "      <td>1986.6</td>\n",
       "      <td>12768.5</td>\n",
       "    </tr>\n",
       "    <tr>\n",
       "      <th>std</th>\n",
       "      <td>2.876566e+09</td>\n",
       "      <td>367127.2</td>\n",
       "      <td>0.9</td>\n",
       "      <td>0.8</td>\n",
       "      <td>918.4</td>\n",
       "      <td>41420.5</td>\n",
       "      <td>0.5</td>\n",
       "      <td>0.1</td>\n",
       "      <td>0.8</td>\n",
       "      <td>0.7</td>\n",
       "      <td>1.2</td>\n",
       "      <td>828.1</td>\n",
       "      <td>442.6</td>\n",
       "      <td>29.4</td>\n",
       "      <td>401.7</td>\n",
       "      <td>53.5</td>\n",
       "      <td>0.1</td>\n",
       "      <td>0.1</td>\n",
       "      <td>685.4</td>\n",
       "      <td>27304.2</td>\n",
       "    </tr>\n",
       "    <tr>\n",
       "      <th>min</th>\n",
       "      <td>1.000102e+06</td>\n",
       "      <td>75000.0</td>\n",
       "      <td>0.0</td>\n",
       "      <td>0.0</td>\n",
       "      <td>290.0</td>\n",
       "      <td>520.0</td>\n",
       "      <td>1.0</td>\n",
       "      <td>0.0</td>\n",
       "      <td>0.0</td>\n",
       "      <td>1.0</td>\n",
       "      <td>1.0</td>\n",
       "      <td>290.0</td>\n",
       "      <td>0.0</td>\n",
       "      <td>1900.0</td>\n",
       "      <td>0.0</td>\n",
       "      <td>98001.0</td>\n",
       "      <td>47.2</td>\n",
       "      <td>-122.5</td>\n",
       "      <td>399.0</td>\n",
       "      <td>651.0</td>\n",
       "    </tr>\n",
       "    <tr>\n",
       "      <th>25%</th>\n",
       "      <td>2.123049e+09</td>\n",
       "      <td>321950.0</td>\n",
       "      <td>3.0</td>\n",
       "      <td>1.8</td>\n",
       "      <td>1427.0</td>\n",
       "      <td>5040.0</td>\n",
       "      <td>1.0</td>\n",
       "      <td>0.0</td>\n",
       "      <td>0.0</td>\n",
       "      <td>3.0</td>\n",
       "      <td>7.0</td>\n",
       "      <td>1190.0</td>\n",
       "      <td>0.0</td>\n",
       "      <td>1951.0</td>\n",
       "      <td>0.0</td>\n",
       "      <td>98033.0</td>\n",
       "      <td>47.5</td>\n",
       "      <td>-122.3</td>\n",
       "      <td>1490.0</td>\n",
       "      <td>5100.0</td>\n",
       "    </tr>\n",
       "    <tr>\n",
       "      <th>50%</th>\n",
       "      <td>3.904930e+09</td>\n",
       "      <td>450000.0</td>\n",
       "      <td>3.0</td>\n",
       "      <td>2.2</td>\n",
       "      <td>1910.0</td>\n",
       "      <td>7618.0</td>\n",
       "      <td>1.5</td>\n",
       "      <td>0.0</td>\n",
       "      <td>0.0</td>\n",
       "      <td>3.0</td>\n",
       "      <td>7.0</td>\n",
       "      <td>1560.0</td>\n",
       "      <td>0.0</td>\n",
       "      <td>1975.0</td>\n",
       "      <td>0.0</td>\n",
       "      <td>98065.0</td>\n",
       "      <td>47.6</td>\n",
       "      <td>-122.2</td>\n",
       "      <td>1840.0</td>\n",
       "      <td>7620.0</td>\n",
       "    </tr>\n",
       "    <tr>\n",
       "      <th>75%</th>\n",
       "      <td>7.308900e+09</td>\n",
       "      <td>645000.0</td>\n",
       "      <td>4.0</td>\n",
       "      <td>2.5</td>\n",
       "      <td>2550.0</td>\n",
       "      <td>10688.0</td>\n",
       "      <td>2.0</td>\n",
       "      <td>0.0</td>\n",
       "      <td>0.0</td>\n",
       "      <td>4.0</td>\n",
       "      <td>8.0</td>\n",
       "      <td>2210.0</td>\n",
       "      <td>560.0</td>\n",
       "      <td>1997.0</td>\n",
       "      <td>0.0</td>\n",
       "      <td>98118.0</td>\n",
       "      <td>47.7</td>\n",
       "      <td>-122.1</td>\n",
       "      <td>2360.0</td>\n",
       "      <td>10083.0</td>\n",
       "    </tr>\n",
       "    <tr>\n",
       "      <th>max</th>\n",
       "      <td>9.900000e+09</td>\n",
       "      <td>7700000.0</td>\n",
       "      <td>33.0</td>\n",
       "      <td>8.0</td>\n",
       "      <td>13540.0</td>\n",
       "      <td>1651359.0</td>\n",
       "      <td>3.5</td>\n",
       "      <td>1.0</td>\n",
       "      <td>4.0</td>\n",
       "      <td>5.0</td>\n",
       "      <td>13.0</td>\n",
       "      <td>9410.0</td>\n",
       "      <td>4820.0</td>\n",
       "      <td>2015.0</td>\n",
       "      <td>2015.0</td>\n",
       "      <td>98199.0</td>\n",
       "      <td>47.8</td>\n",
       "      <td>-121.3</td>\n",
       "      <td>6210.0</td>\n",
       "      <td>871200.0</td>\n",
       "    </tr>\n",
       "  </tbody>\n",
       "</table>\n",
       "</div>"
      ],
      "text/plain": [
       "                 id      price  bedrooms  bathrooms  sqft_living   sqft_lot  \\\n",
       "count  2.161300e+04    21613.0   21613.0    21613.0      21613.0    21613.0   \n",
       "mean   4.580302e+09   540088.1       3.4        2.1       2079.9    15107.0   \n",
       "std    2.876566e+09   367127.2       0.9        0.8        918.4    41420.5   \n",
       "min    1.000102e+06    75000.0       0.0        0.0        290.0      520.0   \n",
       "25%    2.123049e+09   321950.0       3.0        1.8       1427.0     5040.0   \n",
       "50%    3.904930e+09   450000.0       3.0        2.2       1910.0     7618.0   \n",
       "75%    7.308900e+09   645000.0       4.0        2.5       2550.0    10688.0   \n",
       "max    9.900000e+09  7700000.0      33.0        8.0      13540.0  1651359.0   \n",
       "\n",
       "        floors  waterfront     view  condition    grade  sqft_above  \\\n",
       "count  21613.0     21613.0  21613.0    21613.0  21613.0     21613.0   \n",
       "mean       1.5         0.0      0.2        3.4      7.7      1788.4   \n",
       "std        0.5         0.1      0.8        0.7      1.2       828.1   \n",
       "min        1.0         0.0      0.0        1.0      1.0       290.0   \n",
       "25%        1.0         0.0      0.0        3.0      7.0      1190.0   \n",
       "50%        1.5         0.0      0.0        3.0      7.0      1560.0   \n",
       "75%        2.0         0.0      0.0        4.0      8.0      2210.0   \n",
       "max        3.5         1.0      4.0        5.0     13.0      9410.0   \n",
       "\n",
       "       sqft_basement  yr_built  yr_renovated  zipcode      lat     long  \\\n",
       "count        21613.0   21613.0       21613.0  21613.0  21613.0  21613.0   \n",
       "mean           291.5    1971.0          84.4  98077.9     47.6   -122.2   \n",
       "std            442.6      29.4         401.7     53.5      0.1      0.1   \n",
       "min              0.0    1900.0           0.0  98001.0     47.2   -122.5   \n",
       "25%              0.0    1951.0           0.0  98033.0     47.5   -122.3   \n",
       "50%              0.0    1975.0           0.0  98065.0     47.6   -122.2   \n",
       "75%            560.0    1997.0           0.0  98118.0     47.7   -122.1   \n",
       "max           4820.0    2015.0        2015.0  98199.0     47.8   -121.3   \n",
       "\n",
       "       sqft_living15  sqft_lot15  \n",
       "count        21613.0     21613.0  \n",
       "mean          1986.6     12768.5  \n",
       "std            685.4     27304.2  \n",
       "min            399.0       651.0  \n",
       "25%           1490.0      5100.0  \n",
       "50%           1840.0      7620.0  \n",
       "75%           2360.0     10083.0  \n",
       "max           6210.0    871200.0  "
      ]
     },
     "execution_count": 8,
     "metadata": {},
     "output_type": "execute_result"
    }
   ],
   "source": [
    "df_raw.describe().round(1)"
   ]
  },
  {
   "cell_type": "markdown",
   "id": "b5a03c3e",
   "metadata": {},
   "source": [
    "## 1.6 Engenharia de Variáveis"
   ]
  },
  {
   "cell_type": "code",
   "execution_count": 9,
   "id": "2de43438",
   "metadata": {
    "ExecuteTime": {
     "end_time": "2022-01-29T18:36:34.997603Z",
     "start_time": "2022-01-29T18:36:34.983506Z"
    }
   },
   "outputs": [],
   "source": [
    "# Criando uma copia para trabalharmos em cima\n",
    "\n",
    "df = df_raw.copy()"
   ]
  },
  {
   "cell_type": "code",
   "execution_count": 10,
   "id": "3b2afdf6",
   "metadata": {
    "ExecuteTime": {
     "end_time": "2022-01-29T18:36:35.656220Z",
     "start_time": "2022-01-29T18:36:35.002146Z"
    }
   },
   "outputs": [],
   "source": [
    "df[\"nivel_bairro\"] = pd.qcut(df[\"sqft_living15\"].values, q = 4, labels=[1, 2, 3, 4])\n",
    "df.nivel_bairro = df.nivel_bairro.astype(int)"
   ]
  },
  {
   "cell_type": "code",
   "execution_count": 11,
   "id": "a84b9d6a",
   "metadata": {
    "ExecuteTime": {
     "end_time": "2022-01-29T18:36:35.692638Z",
     "start_time": "2022-01-29T18:36:35.664463Z"
    }
   },
   "outputs": [],
   "source": [
    "df[\"idade_casa\"] = 2014 - df.yr_built"
   ]
  },
  {
   "cell_type": "code",
   "execution_count": 12,
   "id": "701712d2",
   "metadata": {
    "ExecuteTime": {
     "end_time": "2022-01-29T18:36:35.814481Z",
     "start_time": "2022-01-29T18:36:35.705795Z"
    }
   },
   "outputs": [],
   "source": [
    "df[\"ja_reformado\"] = [0 if i == 0 else 1 for i in df.yr_renovated.values.tolist()]"
   ]
  },
  {
   "cell_type": "markdown",
   "id": "d8cb0fe5",
   "metadata": {},
   "source": [
    "## 1.7 Limpeza"
   ]
  },
  {
   "cell_type": "code",
   "execution_count": 13,
   "id": "7066663d",
   "metadata": {
    "ExecuteTime": {
     "end_time": "2022-01-29T18:36:35.925504Z",
     "start_time": "2022-01-29T18:36:35.819031Z"
    }
   },
   "outputs": [],
   "source": [
    "# Removendo as colunas que não irei usar\n",
    "\n",
    "df.drop([\"id\", \"sqft_above\", \"sqft_basement\", \"zipcode\", \"sqft_lot15\", \"date\", \"yr_built\", \"yr_renovated\", \"sqft_living15\"], axis=1, inplace=True)"
   ]
  },
  {
   "cell_type": "markdown",
   "id": "1df5139e",
   "metadata": {},
   "source": [
    "### Análise e Remoção de Outliers"
   ]
  },
  {
   "cell_type": "markdown",
   "id": "2e18e23c",
   "metadata": {},
   "source": [
    "Nós já haviamos identificado os outliers no primeiro ciclo do projeto, vamos então utilizar as mesmas técnicas."
   ]
  },
  {
   "cell_type": "code",
   "execution_count": 14,
   "id": "3c260c2d",
   "metadata": {
    "ExecuteTime": {
     "end_time": "2022-01-29T18:36:36.025767Z",
     "start_time": "2022-01-29T18:36:35.931973Z"
    }
   },
   "outputs": [],
   "source": [
    "# Removendo outliers\n",
    "\n",
    "df.drop(df[df.price > 1000000].index, axis=0, inplace=True)\n",
    "df.drop(df[(df.bedrooms > 5)].index, axis=0, inplace=True)\n",
    "df.drop(df[df.bathrooms > 4].index, axis=0, inplace=True)\n",
    "df.drop(df[df.sqft_living > 4500].index, axis=0, inplace=True)\n",
    "df.drop(df[df.sqft_lot > 20000].index, axis=0, inplace=True)\n",
    "df.drop(df[df.condition == 1].index, axis=0, inplace=True)\n",
    "df.drop(df[(df.grade > 10) | (df.grade < 6)].index, axis=0, inplace=True)"
   ]
  },
  {
   "cell_type": "markdown",
   "id": "291e88c0",
   "metadata": {},
   "source": [
    "### Variável Alvo"
   ]
  },
  {
   "cell_type": "code",
   "execution_count": 15,
   "id": "6696cdc3",
   "metadata": {
    "ExecuteTime": {
     "end_time": "2022-01-29T18:36:38.004338Z",
     "start_time": "2022-01-29T18:36:36.030388Z"
    },
    "scrolled": false
   },
   "outputs": [
    {
     "data": {
      "image/png": "[encoded data removed]",
      "text/plain": [
       "<Figure size 720x360 with 1 Axes>"
      ]
     },
     "metadata": {
      "needs_background": "light"
     },
     "output_type": "display_data"
    }
   ],
   "source": [
    "plt.figure(figsize=[10, 5])\n",
    "sns.histplot(df.price, kde=True)\n",
    "plt.ticklabel_format(style='plain', axis='x')\n",
    "plt.title(\"Distribuição do Preço\", fontsize=16);"
   ]
  },
  {
   "cell_type": "code",
   "execution_count": 16,
   "id": "468f471e",
   "metadata": {
    "ExecuteTime": {
     "end_time": "2022-01-29T00:33:10.758993Z",
     "start_time": "2022-01-29T00:33:10.748023Z"
    }
   },
   "outputs": [
    {
     "name": "stdout",
     "output_type": "stream",
     "text": [
      "Skew: 0.6793818137985389\n"
     ]
    }
   ],
   "source": [
    "print(\"Skew:\", stats.skew(df.price.values))"
   ]
  },
  {
   "cell_type": "markdown",
   "id": "5767698e",
   "metadata": {},
   "source": [
    "# 3. Modelagem"
   ]
  },
  {
   "cell_type": "markdown",
   "id": "e4d2b9d6",
   "metadata": {},
   "source": [
    "## 3.1 Pré-Processamento"
   ]
  },
  {
   "cell_type": "markdown",
   "id": "76e3d498",
   "metadata": {},
   "source": [
    "### Seleção de Váriáveis"
   ]
  },
  {
   "cell_type": "markdown",
   "id": "6c9135da",
   "metadata": {},
   "source": [
    "Para confirmar e quantificar a força da relação entre as variáveis, vamos plotar o gráfico de correlação:"
   ]
  },
  {
   "cell_type": "code",
   "execution_count": 16,
   "id": "8e84b60a",
   "metadata": {
    "ExecuteTime": {
     "end_time": "2022-01-29T18:36:40.145744Z",
     "start_time": "2022-01-29T18:36:38.013370Z"
    }
   },
   "outputs": [
    {
     "data": {
      "image/png": "[encoded data removed]",
      "text/plain": [
       "<Figure size 1080x504 with 2 Axes>"
      ]
     },
     "metadata": {
      "needs_background": "light"
     },
     "output_type": "display_data"
    }
   ],
   "source": [
    "plt.figure(figsize=[15, 7])\n",
    "sns.heatmap(df.corr(), annot=True)\n",
    "plt.title(\"Correlações\", fontsize=16)\n",
    "plt.show()"
   ]
  },
  {
   "cell_type": "code",
   "execution_count": 30,
   "id": "d57f928e",
   "metadata": {
    "ExecuteTime": {
     "end_time": "2022-01-29T18:43:01.000741Z",
     "start_time": "2022-01-29T18:43:00.989095Z"
    }
   },
   "outputs": [],
   "source": [
    "df1 = df.copy()"
   ]
  },
  {
   "cell_type": "code",
   "execution_count": 31,
   "id": "f3d214c6",
   "metadata": {
    "ExecuteTime": {
     "end_time": "2022-01-29T18:43:01.198721Z",
     "start_time": "2022-01-29T18:43:01.180029Z"
    }
   },
   "outputs": [],
   "source": [
    "df1.drop([\"sqft_lot\", \"waterfront\", \"condition\", \"long\", \"idade_casa\", \"ja_reformado\"], axis=1, inplace=True)"
   ]
  },
  {
   "cell_type": "code",
   "execution_count": 32,
   "id": "1d044cf8",
   "metadata": {
    "ExecuteTime": {
     "end_time": "2022-01-29T18:43:01.593365Z",
     "start_time": "2022-01-29T18:43:01.574578Z"
    }
   },
   "outputs": [],
   "source": [
    "X = df1.drop(\"price\", axis=1).values\n",
    "y = df1.price.values.reshape(-1, 1)"
   ]
  },
  {
   "cell_type": "markdown",
   "id": "be8dc3b7",
   "metadata": {},
   "source": [
    "### Transformando as distribuições"
   ]
  },
  {
   "cell_type": "code",
   "execution_count": 21,
   "id": "a9c63dd1",
   "metadata": {
    "ExecuteTime": {
     "end_time": "2022-01-28T01:40:40.792225Z",
     "start_time": "2022-01-28T01:40:40.776233Z"
    }
   },
   "outputs": [],
   "source": [
    "#df1[\"sqft_living\"] = np.log(df1[\"sqft_living\"].values)\n",
    "#df1[\"price\"] = np.log(df1[\"price\"].values)"
   ]
  },
  {
   "cell_type": "markdown",
   "id": "e8428f61",
   "metadata": {},
   "source": [
    "### Colocando as variáveis em uma mesma escala"
   ]
  },
  {
   "cell_type": "code",
   "execution_count": 33,
   "id": "d7aef519",
   "metadata": {
    "ExecuteTime": {
     "end_time": "2022-01-29T18:43:05.181713Z",
     "start_time": "2022-01-29T18:43:05.168129Z"
    }
   },
   "outputs": [],
   "source": [
    "mm_scaler = MinMaxScaler()\n",
    "\n",
    "X = mm_scaler.fit_transform(X)"
   ]
  },
  {
   "cell_type": "markdown",
   "id": "3e8b3afa",
   "metadata": {},
   "source": [
    "### Separando treino e teste"
   ]
  },
  {
   "cell_type": "code",
   "execution_count": 36,
   "id": "23a9f393",
   "metadata": {
    "ExecuteTime": {
     "end_time": "2022-01-29T18:43:30.486284Z",
     "start_time": "2022-01-29T18:43:30.469523Z"
    }
   },
   "outputs": [],
   "source": [
    "Xtrain, Xtest, ytrain, ytest = train_test_split(X, y, test_size = 0.2, random_state=42)"
   ]
  },
  {
   "cell_type": "markdown",
   "id": "bf1fa898",
   "metadata": {},
   "source": [
    "## 3.2 Treinamento"
   ]
  },
  {
   "cell_type": "markdown",
   "id": "edd495ea",
   "metadata": {},
   "source": [
    "### Regressão linear"
   ]
  },
  {
   "cell_type": "code",
   "execution_count": 37,
   "id": "728e0e26",
   "metadata": {
    "ExecuteTime": {
     "end_time": "2022-01-29T18:43:31.707928Z",
     "start_time": "2022-01-29T18:43:31.693645Z"
    }
   },
   "outputs": [],
   "source": [
    "lm = LinearRegression()"
   ]
  },
  {
   "cell_type": "code",
   "execution_count": 38,
   "id": "64a698fe",
   "metadata": {
    "ExecuteTime": {
     "end_time": "2022-01-29T18:43:32.908516Z",
     "start_time": "2022-01-29T18:43:32.171968Z"
    }
   },
   "outputs": [
    {
     "data": {
      "text/plain": [
       "LinearRegression()"
      ]
     },
     "execution_count": 38,
     "metadata": {},
     "output_type": "execute_result"
    }
   ],
   "source": [
    "lm.fit(Xtrain, ytrain)"
   ]
  },
  {
   "cell_type": "code",
   "execution_count": 39,
   "id": "33e3b90e",
   "metadata": {
    "ExecuteTime": {
     "end_time": "2022-01-29T18:43:36.010053Z",
     "start_time": "2022-01-29T18:43:35.971353Z"
    }
   },
   "outputs": [
    {
     "data": {
      "text/plain": [
       "{'Modelo': 'Reg.Linear Treino',\n",
       " 'r2_score': 0.6133861487845919,\n",
       " 'Mape': 0.2102760250351765,\n",
       " 'Rmse': 118076.85538038833}"
      ]
     },
     "execution_count": 39,
     "metadata": {},
     "output_type": "execute_result"
    }
   ],
   "source": [
    "metricas(y_true=ytrain, y_pred=lm.predict(Xtrain), nome_modelo=\"Reg.Linear Treino\")"
   ]
  },
  {
   "cell_type": "code",
   "execution_count": 40,
   "id": "34fdbbc2",
   "metadata": {
    "ExecuteTime": {
     "end_time": "2022-01-29T18:43:40.289906Z",
     "start_time": "2022-01-29T18:43:40.149243Z"
    }
   },
   "outputs": [
    {
     "data": {
      "text/plain": [
       "{'Modelo': 'Reg.Linear Cross.Val',\n",
       " 'r2_score': (0.6121897495631295, 0.01193757716051579),\n",
       " 'Mape': (-0.21044366435478795, 0.005329599418967682),\n",
       " 'Rmse': (-118171.96584772071, 2179.9284755915087)}"
      ]
     },
     "execution_count": 40,
     "metadata": {},
     "output_type": "execute_result"
    }
   ],
   "source": [
    "metricas_cv(Xtrain, ytrain, \"Reg.Linear Cross.Val\", lm)"
   ]
  },
  {
   "cell_type": "markdown",
   "id": "39f93c22",
   "metadata": {},
   "source": [
    "### Regressão Polinomial"
   ]
  },
  {
   "cell_type": "code",
   "execution_count": 41,
   "id": "18b826f6",
   "metadata": {
    "ExecuteTime": {
     "end_time": "2022-01-29T18:43:42.978681Z",
     "start_time": "2022-01-29T18:43:42.969218Z"
    }
   },
   "outputs": [],
   "source": [
    "poly = PolynomialFeatures(3)"
   ]
  },
  {
   "cell_type": "code",
   "execution_count": 42,
   "id": "656448c1",
   "metadata": {
    "ExecuteTime": {
     "end_time": "2022-01-29T18:43:43.238786Z",
     "start_time": "2022-01-29T18:43:43.183303Z"
    }
   },
   "outputs": [],
   "source": [
    "Xtrain_poly = poly.fit_transform(Xtrain)\n",
    "Xtest_poly = poly.fit_transform(Xtest)"
   ]
  },
  {
   "cell_type": "code",
   "execution_count": 43,
   "id": "b2f7fb7c",
   "metadata": {
    "ExecuteTime": {
     "end_time": "2022-01-29T18:43:44.591546Z",
     "start_time": "2022-01-29T18:43:44.180821Z"
    }
   },
   "outputs": [
    {
     "data": {
      "text/plain": [
       "LinearRegression()"
      ]
     },
     "execution_count": 43,
     "metadata": {},
     "output_type": "execute_result"
    }
   ],
   "source": [
    "lm.fit(Xtrain_poly, ytrain)"
   ]
  },
  {
   "cell_type": "code",
   "execution_count": 44,
   "id": "bac5f3ed",
   "metadata": {
    "ExecuteTime": {
     "end_time": "2022-01-29T18:43:45.643932Z",
     "start_time": "2022-01-29T18:43:45.615881Z"
    }
   },
   "outputs": [
    {
     "data": {
      "text/plain": [
       "{'Modelo': 'Reg.Polinomial Treino',\n",
       " 'r2_score': 0.7684996996046635,\n",
       " 'Mape': 0.16577777534084867,\n",
       " 'Rmse': 91369.62726405007}"
      ]
     },
     "execution_count": 44,
     "metadata": {},
     "output_type": "execute_result"
    }
   ],
   "source": [
    "metricas(y_true=ytrain, y_pred=lm.predict(Xtrain_poly), nome_modelo=\"Reg.Polinomial Treino\")"
   ]
  },
  {
   "cell_type": "code",
   "execution_count": 47,
   "id": "7fe5849a",
   "metadata": {
    "ExecuteTime": {
     "end_time": "2022-01-29T18:43:58.256310Z",
     "start_time": "2022-01-29T18:43:56.714381Z"
    }
   },
   "outputs": [
    {
     "data": {
      "text/plain": [
       "{'Modelo': 'Reg.Polinomial Cross.Val',\n",
       " 'r2_score': (0.759731395828518, 0.005858283560223898),\n",
       " 'Mape': (-0.16812421872935895, 0.004008244189134865),\n",
       " 'Rmse': (-93029.00877516613, 1988.0937852287018)}"
      ]
     },
     "execution_count": 47,
     "metadata": {},
     "output_type": "execute_result"
    }
   ],
   "source": [
    "metricas_cv(Xtrain_poly, ytrain, \"Reg.Polinomial Cross.Val\", lm)"
   ]
  },
  {
   "cell_type": "markdown",
   "id": "62d0fa6c",
   "metadata": {},
   "source": [
    "### Random Forest"
   ]
  },
  {
   "cell_type": "code",
   "execution_count": 48,
   "id": "82e69059",
   "metadata": {
    "ExecuteTime": {
     "end_time": "2022-01-29T18:44:03.253401Z",
     "start_time": "2022-01-29T18:44:03.248758Z"
    }
   },
   "outputs": [],
   "source": [
    "forest = RandomForestRegressor(min_samples_leaf = 8, random_state = 42)"
   ]
  },
  {
   "cell_type": "code",
   "execution_count": 49,
   "id": "b702c693",
   "metadata": {
    "ExecuteTime": {
     "end_time": "2022-01-29T18:44:07.612482Z",
     "start_time": "2022-01-29T18:44:03.781903Z"
    }
   },
   "outputs": [
    {
     "data": {
      "text/plain": [
       "RandomForestRegressor(min_samples_leaf=8, random_state=42)"
      ]
     },
     "execution_count": 49,
     "metadata": {},
     "output_type": "execute_result"
    }
   ],
   "source": [
    "forest.fit(Xtrain, ytrain)"
   ]
  },
  {
   "cell_type": "code",
   "execution_count": 50,
   "id": "6b4af1aa",
   "metadata": {
    "ExecuteTime": {
     "end_time": "2022-01-29T18:44:07.968889Z",
     "start_time": "2022-01-29T18:44:07.616190Z"
    }
   },
   "outputs": [
    {
     "data": {
      "text/plain": [
       "{'Modelo': 'Random Forest Treino',\n",
       " 'r2_score': 0.8674073629080944,\n",
       " 'Mape': 0.11480175676507745,\n",
       " 'Rmse': 69148.97993533262}"
      ]
     },
     "execution_count": 50,
     "metadata": {},
     "output_type": "execute_result"
    }
   ],
   "source": [
    "metricas(y_true=ytrain, y_pred=forest.predict(Xtrain), nome_modelo=\"Random Forest Treino\")"
   ]
  },
  {
   "cell_type": "code",
   "execution_count": 51,
   "id": "f9c8d56f",
   "metadata": {
    "ExecuteTime": {
     "end_time": "2022-01-29T18:44:55.363937Z",
     "start_time": "2022-01-29T18:44:07.974759Z"
    }
   },
   "outputs": [
    {
     "data": {
      "text/plain": [
       "{'Modelo': 'Random Forest Cross.Val',\n",
       " 'r2_score': (0.8004802761156717, 0.003496602204491986),\n",
       " 'Mape': (-0.1406975742523134, 0.0018494606943251879),\n",
       " 'Rmse': (-84767.9132810024, 1111.7432765414449)}"
      ]
     },
     "execution_count": 51,
     "metadata": {},
     "output_type": "execute_result"
    }
   ],
   "source": [
    "metricas_cv(Xtrain, ytrain, \"Random Forest Cross.Val\", forest)"
   ]
  },
  {
   "cell_type": "markdown",
   "id": "56e3cfcb",
   "metadata": {},
   "source": [
    "### Gradient Boosting"
   ]
  },
  {
   "cell_type": "code",
   "execution_count": 52,
   "id": "7a42d8bf",
   "metadata": {
    "ExecuteTime": {
     "end_time": "2022-01-29T18:44:55.379022Z",
     "start_time": "2022-01-29T18:44:55.368496Z"
    }
   },
   "outputs": [],
   "source": [
    "boost = GradientBoostingRegressor(min_samples_leaf = 8, subsample = 0.8)"
   ]
  },
  {
   "cell_type": "code",
   "execution_count": 53,
   "id": "d7c4ebda",
   "metadata": {
    "ExecuteTime": {
     "end_time": "2022-01-29T18:44:57.390540Z",
     "start_time": "2022-01-29T18:44:55.395047Z"
    }
   },
   "outputs": [
    {
     "data": {
      "text/plain": [
       "GradientBoostingRegressor(min_samples_leaf=8, subsample=0.8)"
      ]
     },
     "execution_count": 53,
     "metadata": {},
     "output_type": "execute_result"
    }
   ],
   "source": [
    "boost.fit(Xtrain, ytrain)"
   ]
  },
  {
   "cell_type": "code",
   "execution_count": 54,
   "id": "504a22a3",
   "metadata": {
    "ExecuteTime": {
     "end_time": "2022-01-29T18:44:57.493316Z",
     "start_time": "2022-01-29T18:44:57.395544Z"
    }
   },
   "outputs": [
    {
     "data": {
      "text/plain": [
       "{'Modelo': 'G.Boost Treino',\n",
       " 'r2_score': 0.8106768506457994,\n",
       " 'Mape': 0.13977452498419052,\n",
       " 'Rmse': 82628.13186453824}"
      ]
     },
     "execution_count": 54,
     "metadata": {},
     "output_type": "execute_result"
    }
   ],
   "source": [
    "metricas(y_true=ytrain, y_pred=boost.predict(Xtrain), nome_modelo=\"G.Boost Treino\")"
   ]
  },
  {
   "cell_type": "code",
   "execution_count": 55,
   "id": "51881f30",
   "metadata": {
    "ExecuteTime": {
     "end_time": "2022-01-29T18:45:16.677244Z",
     "start_time": "2022-01-29T18:44:57.496350Z"
    },
    "scrolled": true
   },
   "outputs": [
    {
     "data": {
      "text/plain": [
       "{'Modelo': 'G.boost Cross.Val',\n",
       " 'r2_score': (0.7983792348034204, 0.0029660659851149084),\n",
       " 'Mape': (-0.14379232401054537, 0.0029210591321082347),\n",
       " 'Rmse': (-85146.28844845772, 1523.1340389145837)}"
      ]
     },
     "execution_count": 55,
     "metadata": {},
     "output_type": "execute_result"
    }
   ],
   "source": [
    "metricas_cv(Xtrain, ytrain, \"G.boost Cross.Val\", boost)"
   ]
  },
  {
   "cell_type": "markdown",
   "id": "960d89c8",
   "metadata": {},
   "source": [
    "Dos modelos testados, o que aprendeu a generalizar melhor foi o modelo de Gradient Boosting, iremos usá-lo para realizar as predições."
   ]
  },
  {
   "cell_type": "markdown",
   "id": "0a2b6de7",
   "metadata": {},
   "source": [
    "## 3.3 Otimização de Hiperparâmetros"
   ]
  },
  {
   "cell_type": "code",
   "execution_count": 377,
   "id": "158b4cb9",
   "metadata": {
    "ExecuteTime": {
     "end_time": "2022-01-24T00:39:01.732966Z",
     "start_time": "2022-01-24T00:30:04.509944Z"
    }
   },
   "outputs": [
    {
     "name": "stdout",
     "output_type": "stream",
     "text": [
      "{'min_samples_split': 5, 'max_features': 'log2', 'max_depth': 8, 'learning_rate': 0.1}\n",
      "\n",
      "-81768.6058905597\n"
     ]
    }
   ],
   "source": [
    "params = {\"min_samples_split\":[5, 8, 13],\n",
    "          \"max_depth\":[3, 5, 8, 13, 21, 34],\n",
    "          \"max_features\":[\"auto\", \"sqrt\", \"log2\"],\n",
    "          \"learning_rate\":[0.1, 0.15, 0.2]}\n",
    "\n",
    "reg = RandomizedSearchCV(GradientBoostingRegressor(subsample=0.8), param_distributions=params, n_iter=50, cv=5, scoring=\"neg_root_mean_squared_error\")\n",
    "reg.fit(Xtrain, ytrain)\n",
    "print(reg.best_params_)\n",
    "print()\n",
    "print(reg.best_score_)"
   ]
  },
  {
   "cell_type": "code",
   "execution_count": 56,
   "id": "241433bc",
   "metadata": {
    "ExecuteTime": {
     "end_time": "2022-01-29T18:45:19.113441Z",
     "start_time": "2022-01-29T18:45:16.685308Z"
    }
   },
   "outputs": [
    {
     "data": {
      "text/plain": [
       "GradientBoostingRegressor(max_depth=8, max_features='log2', min_samples_split=5)"
      ]
     },
     "execution_count": 56,
     "metadata": {},
     "output_type": "execute_result"
    }
   ],
   "source": [
    "final_model = GradientBoostingRegressor(min_samples_split=5, max_features=\"log2\", max_depth=8)\n",
    "final_model.fit(Xtrain, ytrain)"
   ]
  },
  {
   "cell_type": "code",
   "execution_count": 57,
   "id": "e6590c20",
   "metadata": {
    "ExecuteTime": {
     "end_time": "2022-01-29T18:45:43.589748Z",
     "start_time": "2022-01-29T18:45:19.117895Z"
    }
   },
   "outputs": [
    {
     "data": {
      "text/plain": [
       "{'Modelo': 'Modelo Final',\n",
       " 'r2_score': (0.8108484455652093, 0.00420872032395969),\n",
       " 'Mape': (-0.1380513719429914, 0.0026419258997288256),\n",
       " 'Rmse': (-82380.6201266636, 1263.1687511034563)}"
      ]
     },
     "execution_count": 57,
     "metadata": {},
     "output_type": "execute_result"
    }
   ],
   "source": [
    "metricas_cv(Xtrain, ytrain, \"Modelo Final\", final_model)"
   ]
  },
  {
   "cell_type": "markdown",
   "id": "a7f449e3",
   "metadata": {},
   "source": [
    "## 3.4 Avaliação Final"
   ]
  },
  {
   "cell_type": "markdown",
   "id": "a14da366",
   "metadata": {},
   "source": [
    "Agora vamos avaliar o modelo final nos dados de teste, para ver se está generalizando para dados não vistos."
   ]
  },
  {
   "cell_type": "code",
   "execution_count": 61,
   "id": "1fa81bc3",
   "metadata": {
    "ExecuteTime": {
     "end_time": "2022-01-29T18:50:12.618464Z",
     "start_time": "2022-01-29T18:50:12.564498Z"
    },
    "scrolled": true
   },
   "outputs": [
    {
     "data": {
      "text/plain": [
       "{'Modelo': 'Modelo Final - Dados Teste',\n",
       " 'r2_score': 0.8255013749746696,\n",
       " 'Mape': 0.13240185201783417,\n",
       " 'Rmse': 80079.49623136446}"
      ]
     },
     "execution_count": 61,
     "metadata": {},
     "output_type": "execute_result"
    }
   ],
   "source": [
    "metricas(y_true=ytest, y_pred=final_model.predict(Xtest), nome_modelo=\"Modelo Final - Dados Teste\")"
   ]
  },
  {
   "cell_type": "markdown",
   "id": "526ed8af",
   "metadata": {},
   "source": [
    "Nosso modelo consegue \"explicar\" 82% da variabilidade do fenômeno avaliado - preço das casas. \n",
    "\n",
    "O erro médio é aproximadamente 13% do valor real. \n",
    "\n",
    "O RMSE pode parecer alto, mas vale ressaltar que possuímos imóveis de até 1 milhão de dólares, o erro relativo a casas muito caras pesa no cálculo do RMSE que da pesos maiores a erros maiores. Então se pensar por esta maneira verá o modelo performa na realidade, bem."
   ]
  },
  {
   "cell_type": "markdown",
   "id": "ad03cf95",
   "metadata": {},
   "source": [
    "## 3.5 Exportando Modelo e Pipeline"
   ]
  },
  {
   "cell_type": "markdown",
   "id": "342e1617",
   "metadata": {},
   "source": [
    "Exportando o modelo em .pkl para colocá-lo em produção posteriormente."
   ]
  },
  {
   "cell_type": "code",
   "execution_count": 60,
   "id": "f5434f17",
   "metadata": {
    "ExecuteTime": {
     "end_time": "2022-01-29T18:50:05.920013Z",
     "start_time": "2022-01-29T18:50:05.884217Z"
    }
   },
   "outputs": [],
   "source": [
    "# Tranformadores\n",
    "\n",
    "pickle.dump(mm_scaler, open(\"mm_scaler.pkl\", \"wb\"))"
   ]
  },
  {
   "cell_type": "code",
   "execution_count": 62,
   "id": "929aeff0",
   "metadata": {
    "ExecuteTime": {
     "end_time": "2022-01-29T18:51:14.017338Z",
     "start_time": "2022-01-29T18:51:13.987969Z"
    }
   },
   "outputs": [],
   "source": [
    "pickle.dump(final_model, open(\"house_sales_model.pkl\", \"wb\"))"
   ]
  },
  {
   "cell_type": "code",
   "execution_count": null,
   "id": "1b32f096",
   "metadata": {},
   "outputs": [],
   "source": []
  }
 ],
 "metadata": {
  "kernelspec": {
   "display_name": "Python 3 (ipykernel)",
   "language": "python",
   "name": "python3"
  },
  "language_info": {
   "codemirror_mode": {
    "name": "ipython",
    "version": 3
   },
   "file_extension": ".py",
   "mimetype": "text/x-python",
   "name": "python",
   "nbconvert_exporter": "python",
   "pygments_lexer": "ipython3",
   "version": "3.8.8"
  }
 },
 "nbformat": 4,
 "nbformat_minor": 5
}
